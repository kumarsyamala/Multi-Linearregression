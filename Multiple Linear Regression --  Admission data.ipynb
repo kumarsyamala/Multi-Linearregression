{
 "cells": [
  {
   "cell_type": "raw",
   "metadata": {},
   "source": [
    "Import Libraries"
   ]
  },
  {
   "cell_type": "code",
   "execution_count": 102,
   "metadata": {},
   "outputs": [],
   "source": [
    "import numpy as np\n",
    "import pandas as pd\n",
    "import matplotlib.pyplot as plt\n",
    "import seaborn as sns\n",
    "import warnings\n",
    "warnings.filterwarnings ('ignore')\n",
    "from sklearn.model_selection import train_test_split\n",
    "from sklearn.linear_model import LinearRegression\n",
    "from sklearn.metrics import r2_score,mean_absolute_error,mean_squared_error"
   ]
  },
  {
   "cell_type": "code",
   "execution_count": 103,
   "metadata": {},
   "outputs": [],
   "source": [
    "df=pd.read_excel('Admission.xlsx')"
   ]
  },
  {
   "cell_type": "code",
   "execution_count": 104,
   "metadata": {},
   "outputs": [
    {
     "data": {
      "text/html": [
       "<div>\n",
       "<style scoped>\n",
       "    .dataframe tbody tr th:only-of-type {\n",
       "        vertical-align: middle;\n",
       "    }\n",
       "\n",
       "    .dataframe tbody tr th {\n",
       "        vertical-align: top;\n",
       "    }\n",
       "\n",
       "    .dataframe thead th {\n",
       "        text-align: right;\n",
       "    }\n",
       "</style>\n",
       "<table border=\"1\" class=\"dataframe\">\n",
       "  <thead>\n",
       "    <tr style=\"text-align: right;\">\n",
       "      <th></th>\n",
       "      <th>SlNo</th>\n",
       "      <th>Gender</th>\n",
       "      <th>Percent_SSC</th>\n",
       "      <th>Board_SSC</th>\n",
       "      <th>Percent_HSC</th>\n",
       "      <th>Board_HSC</th>\n",
       "      <th>Stream_HSC</th>\n",
       "      <th>Percent_Degree</th>\n",
       "      <th>Course_Degree</th>\n",
       "      <th>Experience_Yrs</th>\n",
       "      <th>Entrance_Test</th>\n",
       "      <th>Percentile_ET</th>\n",
       "      <th>Percent_MBA</th>\n",
       "      <th>Specialization_MBA</th>\n",
       "      <th>Marks_Communication</th>\n",
       "      <th>Marks_Projectwork</th>\n",
       "      <th>Marks_BOCA</th>\n",
       "      <th>Placement</th>\n",
       "      <th>Salary</th>\n",
       "    </tr>\n",
       "  </thead>\n",
       "  <tbody>\n",
       "    <tr>\n",
       "      <th>0</th>\n",
       "      <td>1</td>\n",
       "      <td>M</td>\n",
       "      <td>62.00</td>\n",
       "      <td>Others</td>\n",
       "      <td>88.00</td>\n",
       "      <td>Others</td>\n",
       "      <td>Commerce</td>\n",
       "      <td>52.00</td>\n",
       "      <td>Science</td>\n",
       "      <td>0</td>\n",
       "      <td>MAT</td>\n",
       "      <td>55.0</td>\n",
       "      <td>58.80</td>\n",
       "      <td>Marketing &amp; HR</td>\n",
       "      <td>50</td>\n",
       "      <td>65</td>\n",
       "      <td>74</td>\n",
       "      <td>Placed</td>\n",
       "      <td>270000</td>\n",
       "    </tr>\n",
       "    <tr>\n",
       "      <th>1</th>\n",
       "      <td>2</td>\n",
       "      <td>M</td>\n",
       "      <td>76.33</td>\n",
       "      <td>ICSE</td>\n",
       "      <td>75.33</td>\n",
       "      <td>Others</td>\n",
       "      <td>Science</td>\n",
       "      <td>75.48</td>\n",
       "      <td>Computer Applications</td>\n",
       "      <td>1</td>\n",
       "      <td>MAT</td>\n",
       "      <td>86.5</td>\n",
       "      <td>66.28</td>\n",
       "      <td>Marketing &amp; Finance</td>\n",
       "      <td>69</td>\n",
       "      <td>70</td>\n",
       "      <td>75</td>\n",
       "      <td>Placed</td>\n",
       "      <td>200000</td>\n",
       "    </tr>\n",
       "    <tr>\n",
       "      <th>2</th>\n",
       "      <td>3</td>\n",
       "      <td>M</td>\n",
       "      <td>72.00</td>\n",
       "      <td>Others</td>\n",
       "      <td>78.00</td>\n",
       "      <td>Others</td>\n",
       "      <td>Commerce</td>\n",
       "      <td>66.63</td>\n",
       "      <td>Engineering</td>\n",
       "      <td>0</td>\n",
       "      <td>NaN</td>\n",
       "      <td>0.0</td>\n",
       "      <td>52.91</td>\n",
       "      <td>Marketing &amp; Finance</td>\n",
       "      <td>50</td>\n",
       "      <td>61</td>\n",
       "      <td>59</td>\n",
       "      <td>Placed</td>\n",
       "      <td>240000</td>\n",
       "    </tr>\n",
       "    <tr>\n",
       "      <th>3</th>\n",
       "      <td>4</td>\n",
       "      <td>M</td>\n",
       "      <td>60.00</td>\n",
       "      <td>CBSE</td>\n",
       "      <td>63.00</td>\n",
       "      <td>CBSE</td>\n",
       "      <td>Arts</td>\n",
       "      <td>58.00</td>\n",
       "      <td>Management</td>\n",
       "      <td>0</td>\n",
       "      <td>MAT</td>\n",
       "      <td>75.0</td>\n",
       "      <td>57.80</td>\n",
       "      <td>Marketing &amp; Finance</td>\n",
       "      <td>54</td>\n",
       "      <td>66</td>\n",
       "      <td>62</td>\n",
       "      <td>Placed</td>\n",
       "      <td>250000</td>\n",
       "    </tr>\n",
       "    <tr>\n",
       "      <th>4</th>\n",
       "      <td>5</td>\n",
       "      <td>M</td>\n",
       "      <td>61.00</td>\n",
       "      <td>CBSE</td>\n",
       "      <td>55.00</td>\n",
       "      <td>ISC</td>\n",
       "      <td>Science</td>\n",
       "      <td>54.00</td>\n",
       "      <td>Engineering</td>\n",
       "      <td>1</td>\n",
       "      <td>MAT</td>\n",
       "      <td>66.0</td>\n",
       "      <td>59.43</td>\n",
       "      <td>Marketing &amp; HR</td>\n",
       "      <td>52</td>\n",
       "      <td>65</td>\n",
       "      <td>67</td>\n",
       "      <td>Placed</td>\n",
       "      <td>180000</td>\n",
       "    </tr>\n",
       "  </tbody>\n",
       "</table>\n",
       "</div>"
      ],
      "text/plain": [
       "   SlNo Gender  Percent_SSC Board_SSC  Percent_HSC Board_HSC Stream_HSC  \\\n",
       "0     1      M        62.00    Others        88.00    Others   Commerce   \n",
       "1     2      M        76.33      ICSE        75.33    Others    Science   \n",
       "2     3      M        72.00    Others        78.00    Others   Commerce   \n",
       "3     4      M        60.00      CBSE        63.00      CBSE       Arts   \n",
       "4     5      M        61.00      CBSE        55.00       ISC    Science   \n",
       "\n",
       "   Percent_Degree          Course_Degree  Experience_Yrs Entrance_Test  \\\n",
       "0           52.00                Science               0           MAT   \n",
       "1           75.48  Computer Applications               1           MAT   \n",
       "2           66.63            Engineering               0           NaN   \n",
       "3           58.00             Management               0           MAT   \n",
       "4           54.00            Engineering               1           MAT   \n",
       "\n",
       "   Percentile_ET  Percent_MBA   Specialization_MBA  Marks_Communication  \\\n",
       "0           55.0        58.80       Marketing & HR                   50   \n",
       "1           86.5        66.28  Marketing & Finance                   69   \n",
       "2            0.0        52.91  Marketing & Finance                   50   \n",
       "3           75.0        57.80  Marketing & Finance                   54   \n",
       "4           66.0        59.43       Marketing & HR                   52   \n",
       "\n",
       "   Marks_Projectwork  Marks_BOCA Placement  Salary  \n",
       "0                 65          74    Placed  270000  \n",
       "1                 70          75    Placed  200000  \n",
       "2                 61          59    Placed  240000  \n",
       "3                 66          62    Placed  250000  \n",
       "4                 65          67    Placed  180000  "
      ]
     },
     "execution_count": 104,
     "metadata": {},
     "output_type": "execute_result"
    }
   ],
   "source": [
    "df.head()"
   ]
  },
  {
   "cell_type": "code",
   "execution_count": 105,
   "metadata": {},
   "outputs": [],
   "source": [
    "df.drop('SlNo',axis=1,inplace=True)"
   ]
  },
  {
   "cell_type": "code",
   "execution_count": 106,
   "metadata": {},
   "outputs": [
    {
     "data": {
      "text/plain": [
       "(391, 18)"
      ]
     },
     "execution_count": 106,
     "metadata": {},
     "output_type": "execute_result"
    }
   ],
   "source": [
    "df.shape"
   ]
  },
  {
   "cell_type": "code",
   "execution_count": 107,
   "metadata": {},
   "outputs": [
    {
     "name": "stdout",
     "output_type": "stream",
     "text": [
      "<class 'pandas.core.frame.DataFrame'>\n",
      "RangeIndex: 391 entries, 0 to 390\n",
      "Data columns (total 18 columns):\n",
      " #   Column               Non-Null Count  Dtype  \n",
      "---  ------               --------------  -----  \n",
      " 0   Gender               391 non-null    object \n",
      " 1   Percent_SSC          391 non-null    float64\n",
      " 2   Board_SSC            391 non-null    object \n",
      " 3   Percent_HSC          391 non-null    float64\n",
      " 4   Board_HSC            391 non-null    object \n",
      " 5   Stream_HSC           391 non-null    object \n",
      " 6   Percent_Degree       391 non-null    float64\n",
      " 7   Course_Degree        391 non-null    object \n",
      " 8   Experience_Yrs       391 non-null    int64  \n",
      " 9   Entrance_Test        324 non-null    object \n",
      " 10  Percentile_ET        391 non-null    float64\n",
      " 11  Percent_MBA          391 non-null    float64\n",
      " 12  Specialization_MBA   391 non-null    object \n",
      " 13  Marks_Communication  391 non-null    int64  \n",
      " 14  Marks_Projectwork    391 non-null    int64  \n",
      " 15  Marks_BOCA           391 non-null    int64  \n",
      " 16  Placement            391 non-null    object \n",
      " 17  Salary               391 non-null    int64  \n",
      "dtypes: float64(5), int64(5), object(8)\n",
      "memory usage: 42.8+ KB\n"
     ]
    }
   ],
   "source": [
    "df.info()"
   ]
  },
  {
   "cell_type": "code",
   "execution_count": 108,
   "metadata": {},
   "outputs": [
    {
     "data": {
      "text/html": [
       "<div>\n",
       "<style scoped>\n",
       "    .dataframe tbody tr th:only-of-type {\n",
       "        vertical-align: middle;\n",
       "    }\n",
       "\n",
       "    .dataframe tbody tr th {\n",
       "        vertical-align: top;\n",
       "    }\n",
       "\n",
       "    .dataframe thead th {\n",
       "        text-align: right;\n",
       "    }\n",
       "</style>\n",
       "<table border=\"1\" class=\"dataframe\">\n",
       "  <thead>\n",
       "    <tr style=\"text-align: right;\">\n",
       "      <th></th>\n",
       "      <th>Percent_SSC</th>\n",
       "      <th>Percent_HSC</th>\n",
       "      <th>Percent_Degree</th>\n",
       "      <th>Experience_Yrs</th>\n",
       "      <th>Percentile_ET</th>\n",
       "      <th>Percent_MBA</th>\n",
       "      <th>Marks_Communication</th>\n",
       "      <th>Marks_Projectwork</th>\n",
       "      <th>Marks_BOCA</th>\n",
       "      <th>Salary</th>\n",
       "    </tr>\n",
       "  </thead>\n",
       "  <tbody>\n",
       "    <tr>\n",
       "      <th>count</th>\n",
       "      <td>391.000000</td>\n",
       "      <td>391.000000</td>\n",
       "      <td>391.000000</td>\n",
       "      <td>391.000000</td>\n",
       "      <td>391.000000</td>\n",
       "      <td>391.000000</td>\n",
       "      <td>391.000000</td>\n",
       "      <td>391.000000</td>\n",
       "      <td>391.000000</td>\n",
       "      <td>391.000000</td>\n",
       "    </tr>\n",
       "    <tr>\n",
       "      <th>mean</th>\n",
       "      <td>64.652353</td>\n",
       "      <td>63.795294</td>\n",
       "      <td>62.983606</td>\n",
       "      <td>0.478261</td>\n",
       "      <td>54.934962</td>\n",
       "      <td>61.667698</td>\n",
       "      <td>60.539642</td>\n",
       "      <td>68.363171</td>\n",
       "      <td>64.378517</td>\n",
       "      <td>219078.260870</td>\n",
       "    </tr>\n",
       "    <tr>\n",
       "      <th>std</th>\n",
       "      <td>10.960426</td>\n",
       "      <td>11.417726</td>\n",
       "      <td>8.916152</td>\n",
       "      <td>0.667112</td>\n",
       "      <td>31.168264</td>\n",
       "      <td>5.854399</td>\n",
       "      <td>8.824084</td>\n",
       "      <td>7.145095</td>\n",
       "      <td>9.582834</td>\n",
       "      <td>138311.647036</td>\n",
       "    </tr>\n",
       "    <tr>\n",
       "      <th>min</th>\n",
       "      <td>37.000000</td>\n",
       "      <td>40.000000</td>\n",
       "      <td>35.000000</td>\n",
       "      <td>0.000000</td>\n",
       "      <td>0.000000</td>\n",
       "      <td>50.830000</td>\n",
       "      <td>50.000000</td>\n",
       "      <td>50.000000</td>\n",
       "      <td>50.000000</td>\n",
       "      <td>0.000000</td>\n",
       "    </tr>\n",
       "    <tr>\n",
       "      <th>25%</th>\n",
       "      <td>56.000000</td>\n",
       "      <td>54.000000</td>\n",
       "      <td>57.525000</td>\n",
       "      <td>0.000000</td>\n",
       "      <td>41.190000</td>\n",
       "      <td>57.195000</td>\n",
       "      <td>53.000000</td>\n",
       "      <td>64.000000</td>\n",
       "      <td>57.000000</td>\n",
       "      <td>172800.000000</td>\n",
       "    </tr>\n",
       "    <tr>\n",
       "      <th>50%</th>\n",
       "      <td>64.500000</td>\n",
       "      <td>63.000000</td>\n",
       "      <td>63.000000</td>\n",
       "      <td>0.000000</td>\n",
       "      <td>62.000000</td>\n",
       "      <td>61.010000</td>\n",
       "      <td>58.000000</td>\n",
       "      <td>69.000000</td>\n",
       "      <td>63.000000</td>\n",
       "      <td>240000.000000</td>\n",
       "    </tr>\n",
       "    <tr>\n",
       "      <th>75%</th>\n",
       "      <td>74.000000</td>\n",
       "      <td>72.000000</td>\n",
       "      <td>69.000000</td>\n",
       "      <td>1.000000</td>\n",
       "      <td>78.000000</td>\n",
       "      <td>66.020000</td>\n",
       "      <td>67.000000</td>\n",
       "      <td>74.000000</td>\n",
       "      <td>72.500000</td>\n",
       "      <td>300000.000000</td>\n",
       "    </tr>\n",
       "    <tr>\n",
       "      <th>max</th>\n",
       "      <td>87.200000</td>\n",
       "      <td>94.700000</td>\n",
       "      <td>89.000000</td>\n",
       "      <td>3.000000</td>\n",
       "      <td>98.690000</td>\n",
       "      <td>77.890000</td>\n",
       "      <td>88.000000</td>\n",
       "      <td>87.000000</td>\n",
       "      <td>96.000000</td>\n",
       "      <td>940000.000000</td>\n",
       "    </tr>\n",
       "  </tbody>\n",
       "</table>\n",
       "</div>"
      ],
      "text/plain": [
       "       Percent_SSC  Percent_HSC  Percent_Degree  Experience_Yrs  \\\n",
       "count   391.000000   391.000000      391.000000      391.000000   \n",
       "mean     64.652353    63.795294       62.983606        0.478261   \n",
       "std      10.960426    11.417726        8.916152        0.667112   \n",
       "min      37.000000    40.000000       35.000000        0.000000   \n",
       "25%      56.000000    54.000000       57.525000        0.000000   \n",
       "50%      64.500000    63.000000       63.000000        0.000000   \n",
       "75%      74.000000    72.000000       69.000000        1.000000   \n",
       "max      87.200000    94.700000       89.000000        3.000000   \n",
       "\n",
       "       Percentile_ET  Percent_MBA  Marks_Communication  Marks_Projectwork  \\\n",
       "count     391.000000   391.000000           391.000000         391.000000   \n",
       "mean       54.934962    61.667698            60.539642          68.363171   \n",
       "std        31.168264     5.854399             8.824084           7.145095   \n",
       "min         0.000000    50.830000            50.000000          50.000000   \n",
       "25%        41.190000    57.195000            53.000000          64.000000   \n",
       "50%        62.000000    61.010000            58.000000          69.000000   \n",
       "75%        78.000000    66.020000            67.000000          74.000000   \n",
       "max        98.690000    77.890000            88.000000          87.000000   \n",
       "\n",
       "       Marks_BOCA         Salary  \n",
       "count  391.000000     391.000000  \n",
       "mean    64.378517  219078.260870  \n",
       "std      9.582834  138311.647036  \n",
       "min     50.000000       0.000000  \n",
       "25%     57.000000  172800.000000  \n",
       "50%     63.000000  240000.000000  \n",
       "75%     72.500000  300000.000000  \n",
       "max     96.000000  940000.000000  "
      ]
     },
     "execution_count": 108,
     "metadata": {},
     "output_type": "execute_result"
    }
   ],
   "source": [
    "df.describe(include='number')"
   ]
  },
  {
   "cell_type": "code",
   "execution_count": 109,
   "metadata": {},
   "outputs": [
    {
     "data": {
      "text/html": [
       "<div>\n",
       "<style scoped>\n",
       "    .dataframe tbody tr th:only-of-type {\n",
       "        vertical-align: middle;\n",
       "    }\n",
       "\n",
       "    .dataframe tbody tr th {\n",
       "        vertical-align: top;\n",
       "    }\n",
       "\n",
       "    .dataframe thead th {\n",
       "        text-align: right;\n",
       "    }\n",
       "</style>\n",
       "<table border=\"1\" class=\"dataframe\">\n",
       "  <thead>\n",
       "    <tr style=\"text-align: right;\">\n",
       "      <th></th>\n",
       "      <th>Gender</th>\n",
       "      <th>Board_SSC</th>\n",
       "      <th>Board_HSC</th>\n",
       "      <th>Stream_HSC</th>\n",
       "      <th>Course_Degree</th>\n",
       "      <th>Entrance_Test</th>\n",
       "      <th>Specialization_MBA</th>\n",
       "      <th>Placement</th>\n",
       "    </tr>\n",
       "  </thead>\n",
       "  <tbody>\n",
       "    <tr>\n",
       "      <th>count</th>\n",
       "      <td>391</td>\n",
       "      <td>391</td>\n",
       "      <td>391</td>\n",
       "      <td>391</td>\n",
       "      <td>391</td>\n",
       "      <td>324</td>\n",
       "      <td>391</td>\n",
       "      <td>391</td>\n",
       "    </tr>\n",
       "    <tr>\n",
       "      <th>unique</th>\n",
       "      <td>2</td>\n",
       "      <td>3</td>\n",
       "      <td>3</td>\n",
       "      <td>3</td>\n",
       "      <td>7</td>\n",
       "      <td>8</td>\n",
       "      <td>3</td>\n",
       "      <td>2</td>\n",
       "    </tr>\n",
       "    <tr>\n",
       "      <th>top</th>\n",
       "      <td>M</td>\n",
       "      <td>Others</td>\n",
       "      <td>Others</td>\n",
       "      <td>Commerce</td>\n",
       "      <td>Management</td>\n",
       "      <td>MAT</td>\n",
       "      <td>Marketing &amp; Finance</td>\n",
       "      <td>Placed</td>\n",
       "    </tr>\n",
       "    <tr>\n",
       "      <th>freq</th>\n",
       "      <td>264</td>\n",
       "      <td>201</td>\n",
       "      <td>247</td>\n",
       "      <td>222</td>\n",
       "      <td>163</td>\n",
       "      <td>265</td>\n",
       "      <td>222</td>\n",
       "      <td>312</td>\n",
       "    </tr>\n",
       "  </tbody>\n",
       "</table>\n",
       "</div>"
      ],
      "text/plain": [
       "       Gender Board_SSC Board_HSC Stream_HSC Course_Degree Entrance_Test  \\\n",
       "count     391       391       391        391           391           324   \n",
       "unique      2         3         3          3             7             8   \n",
       "top         M    Others    Others   Commerce    Management           MAT   \n",
       "freq      264       201       247        222           163           265   \n",
       "\n",
       "         Specialization_MBA Placement  \n",
       "count                   391       391  \n",
       "unique                    3         2  \n",
       "top     Marketing & Finance    Placed  \n",
       "freq                    222       312  "
      ]
     },
     "execution_count": 109,
     "metadata": {},
     "output_type": "execute_result"
    }
   ],
   "source": [
    "df.describe(include='O')"
   ]
  },
  {
   "cell_type": "raw",
   "metadata": {},
   "source": [
    "Missing Values "
   ]
  },
  {
   "cell_type": "code",
   "execution_count": 110,
   "metadata": {},
   "outputs": [
    {
     "data": {
      "text/plain": [
       "Gender                  0\n",
       "Percent_SSC             0\n",
       "Board_SSC               0\n",
       "Percent_HSC             0\n",
       "Board_HSC               0\n",
       "Stream_HSC              0\n",
       "Percent_Degree          0\n",
       "Course_Degree           0\n",
       "Experience_Yrs          0\n",
       "Entrance_Test          67\n",
       "Percentile_ET           0\n",
       "Percent_MBA             0\n",
       "Specialization_MBA      0\n",
       "Marks_Communication     0\n",
       "Marks_Projectwork       0\n",
       "Marks_BOCA              0\n",
       "Placement               0\n",
       "Salary                  0\n",
       "dtype: int64"
      ]
     },
     "execution_count": 110,
     "metadata": {},
     "output_type": "execute_result"
    }
   ],
   "source": [
    "df.isnull().sum()"
   ]
  },
  {
   "cell_type": "code",
   "execution_count": 111,
   "metadata": {},
   "outputs": [],
   "source": [
    "df['Entrance_Test'].fillna(value='No test',inplace=True)\n",
    "# In this we are replacing the Null Values with No test beacuse in the Entrance Test column there is possibility that a student get admission by Management seat."
   ]
  },
  {
   "cell_type": "code",
   "execution_count": 112,
   "metadata": {},
   "outputs": [
    {
     "data": {
      "text/plain": [
       "Gender                 0\n",
       "Percent_SSC            0\n",
       "Board_SSC              0\n",
       "Percent_HSC            0\n",
       "Board_HSC              0\n",
       "Stream_HSC             0\n",
       "Percent_Degree         0\n",
       "Course_Degree          0\n",
       "Experience_Yrs         0\n",
       "Entrance_Test          0\n",
       "Percentile_ET          0\n",
       "Percent_MBA            0\n",
       "Specialization_MBA     0\n",
       "Marks_Communication    0\n",
       "Marks_Projectwork      0\n",
       "Marks_BOCA             0\n",
       "Placement              0\n",
       "Salary                 0\n",
       "dtype: int64"
      ]
     },
     "execution_count": 112,
     "metadata": {},
     "output_type": "execute_result"
    }
   ],
   "source": [
    "df.isnull().sum()"
   ]
  },
  {
   "cell_type": "raw",
   "metadata": {},
   "source": [
    "Outliers"
   ]
  },
  {
   "cell_type": "code",
   "execution_count": 113,
   "metadata": {},
   "outputs": [
    {
     "data": {
      "text/html": [
       "<div>\n",
       "<style scoped>\n",
       "    .dataframe tbody tr th:only-of-type {\n",
       "        vertical-align: middle;\n",
       "    }\n",
       "\n",
       "    .dataframe tbody tr th {\n",
       "        vertical-align: top;\n",
       "    }\n",
       "\n",
       "    .dataframe thead th {\n",
       "        text-align: right;\n",
       "    }\n",
       "</style>\n",
       "<table border=\"1\" class=\"dataframe\">\n",
       "  <thead>\n",
       "    <tr style=\"text-align: right;\">\n",
       "      <th></th>\n",
       "      <th>Percent_SSC</th>\n",
       "      <th>Percent_HSC</th>\n",
       "      <th>Percent_Degree</th>\n",
       "      <th>Experience_Yrs</th>\n",
       "      <th>Percentile_ET</th>\n",
       "      <th>Percent_MBA</th>\n",
       "      <th>Marks_Communication</th>\n",
       "      <th>Marks_Projectwork</th>\n",
       "      <th>Marks_BOCA</th>\n",
       "      <th>Salary</th>\n",
       "    </tr>\n",
       "  </thead>\n",
       "  <tbody>\n",
       "    <tr>\n",
       "      <th>0</th>\n",
       "      <td>62.00</td>\n",
       "      <td>88.00</td>\n",
       "      <td>52.00</td>\n",
       "      <td>0</td>\n",
       "      <td>55.0</td>\n",
       "      <td>58.80</td>\n",
       "      <td>50</td>\n",
       "      <td>65</td>\n",
       "      <td>74</td>\n",
       "      <td>270000</td>\n",
       "    </tr>\n",
       "    <tr>\n",
       "      <th>1</th>\n",
       "      <td>76.33</td>\n",
       "      <td>75.33</td>\n",
       "      <td>75.48</td>\n",
       "      <td>1</td>\n",
       "      <td>86.5</td>\n",
       "      <td>66.28</td>\n",
       "      <td>69</td>\n",
       "      <td>70</td>\n",
       "      <td>75</td>\n",
       "      <td>200000</td>\n",
       "    </tr>\n",
       "    <tr>\n",
       "      <th>2</th>\n",
       "      <td>72.00</td>\n",
       "      <td>78.00</td>\n",
       "      <td>66.63</td>\n",
       "      <td>0</td>\n",
       "      <td>0.0</td>\n",
       "      <td>52.91</td>\n",
       "      <td>50</td>\n",
       "      <td>61</td>\n",
       "      <td>59</td>\n",
       "      <td>240000</td>\n",
       "    </tr>\n",
       "    <tr>\n",
       "      <th>3</th>\n",
       "      <td>60.00</td>\n",
       "      <td>63.00</td>\n",
       "      <td>58.00</td>\n",
       "      <td>0</td>\n",
       "      <td>75.0</td>\n",
       "      <td>57.80</td>\n",
       "      <td>54</td>\n",
       "      <td>66</td>\n",
       "      <td>62</td>\n",
       "      <td>250000</td>\n",
       "    </tr>\n",
       "    <tr>\n",
       "      <th>4</th>\n",
       "      <td>61.00</td>\n",
       "      <td>55.00</td>\n",
       "      <td>54.00</td>\n",
       "      <td>1</td>\n",
       "      <td>66.0</td>\n",
       "      <td>59.43</td>\n",
       "      <td>52</td>\n",
       "      <td>65</td>\n",
       "      <td>67</td>\n",
       "      <td>180000</td>\n",
       "    </tr>\n",
       "  </tbody>\n",
       "</table>\n",
       "</div>"
      ],
      "text/plain": [
       "   Percent_SSC  Percent_HSC  Percent_Degree  Experience_Yrs  Percentile_ET  \\\n",
       "0        62.00        88.00           52.00               0           55.0   \n",
       "1        76.33        75.33           75.48               1           86.5   \n",
       "2        72.00        78.00           66.63               0            0.0   \n",
       "3        60.00        63.00           58.00               0           75.0   \n",
       "4        61.00        55.00           54.00               1           66.0   \n",
       "\n",
       "   Percent_MBA  Marks_Communication  Marks_Projectwork  Marks_BOCA  Salary  \n",
       "0        58.80                   50                 65          74  270000  \n",
       "1        66.28                   69                 70          75  200000  \n",
       "2        52.91                   50                 61          59  240000  \n",
       "3        57.80                   54                 66          62  250000  \n",
       "4        59.43                   52                 65          67  180000  "
      ]
     },
     "execution_count": 113,
     "metadata": {},
     "output_type": "execute_result"
    }
   ],
   "source": [
    "Num_cols= df.select_dtypes(include='number')\n",
    "Num_cols.head()"
   ]
  },
  {
   "cell_type": "code",
   "execution_count": 114,
   "metadata": {},
   "outputs": [
    {
     "data": {
      "image/png": "[encoded data removed]",
      "text/plain": [
       "<Figure size 432x288 with 1 Axes>"
      ]
     },
     "metadata": {
      "needs_background": "light"
     },
     "output_type": "display_data"
    },
    {
     "data": {
      "image/png": "[encoded data removed]",
      "text/plain": [
       "<Figure size 432x288 with 1 Axes>"
      ]
     },
     "metadata": {
      "needs_background": "light"
     },
     "output_type": "display_data"
    },
    {
     "data": {
      "image/png": "[encoded data removed]",
      "text/plain": [
       "<Figure size 432x288 with 1 Axes>"
      ]
     },
     "metadata": {
      "needs_background": "light"
     },
     "output_type": "display_data"
    },
    {
     "data": {
      "image/png": "[encoded data removed]",
      "text/plain": [
       "<Figure size 432x288 with 1 Axes>"
      ]
     },
     "metadata": {
      "needs_background": "light"
     },
     "output_type": "display_data"
    },
    {
     "data": {
      "image/png": "[encoded data removed]",
      "text/plain": [
       "<Figure size 432x288 with 1 Axes>"
      ]
     },
     "metadata": {
      "needs_background": "light"
     },
     "output_type": "display_data"
    },
    {
     "data": {
      "image/png": "[encoded data removed]",
      "text/plain": [
       "<Figure size 432x288 with 1 Axes>"
      ]
     },
     "metadata": {
      "needs_background": "light"
     },
     "output_type": "display_data"
    },
    {
     "data": {
      "image/png": "[encoded data removed]",
      "text/plain": [
       "<Figure size 432x288 with 1 Axes>"
      ]
     },
     "metadata": {
      "needs_background": "light"
     },
     "output_type": "display_data"
    },
    {
     "data": {
      "image/png": "[encoded data removed]",
      "text/plain": [
       "<Figure size 432x288 with 1 Axes>"
      ]
     },
     "metadata": {
      "needs_background": "light"
     },
     "output_type": "display_data"
    },
    {
     "data": {
      "image/png": "[encoded data removed]",
      "text/plain": [
       "<Figure size 432x288 with 1 Axes>"
      ]
     },
     "metadata": {
      "needs_background": "light"
     },
     "output_type": "display_data"
    },
    {
     "data": {
      "image/png": "[encoded data removed]",
      "text/plain": [
       "<Figure size 432x288 with 1 Axes>"
      ]
     },
     "metadata": {
      "needs_background": "light"
     },
     "output_type": "display_data"
    }
   ],
   "source": [
    "for i in Num_cols.columns:\n",
    "    sns.boxplot(Num_cols[i])\n",
    "    plt.show()"
   ]
  },
  {
   "cell_type": "code",
   "execution_count": 115,
   "metadata": {},
   "outputs": [],
   "source": [
    "# for Percent_Degree , Experience_Years , Marks_BOCA , Salary Columns has Outliers"
   ]
  },
  {
   "cell_type": "code",
   "execution_count": 116,
   "metadata": {},
   "outputs": [
    {
     "data": {
      "text/html": [
       "<div>\n",
       "<style scoped>\n",
       "    .dataframe tbody tr th:only-of-type {\n",
       "        vertical-align: middle;\n",
       "    }\n",
       "\n",
       "    .dataframe tbody tr th {\n",
       "        vertical-align: top;\n",
       "    }\n",
       "\n",
       "    .dataframe thead th {\n",
       "        text-align: right;\n",
       "    }\n",
       "</style>\n",
       "<table border=\"1\" class=\"dataframe\">\n",
       "  <thead>\n",
       "    <tr style=\"text-align: right;\">\n",
       "      <th></th>\n",
       "      <th>Percent_Degree</th>\n",
       "      <th>Experience_Yrs</th>\n",
       "      <th>Marks_BOCA</th>\n",
       "    </tr>\n",
       "  </thead>\n",
       "  <tbody>\n",
       "    <tr>\n",
       "      <th>0</th>\n",
       "      <td>52.00</td>\n",
       "      <td>0</td>\n",
       "      <td>74</td>\n",
       "    </tr>\n",
       "    <tr>\n",
       "      <th>1</th>\n",
       "      <td>75.48</td>\n",
       "      <td>1</td>\n",
       "      <td>75</td>\n",
       "    </tr>\n",
       "    <tr>\n",
       "      <th>2</th>\n",
       "      <td>66.63</td>\n",
       "      <td>0</td>\n",
       "      <td>59</td>\n",
       "    </tr>\n",
       "    <tr>\n",
       "      <th>3</th>\n",
       "      <td>58.00</td>\n",
       "      <td>0</td>\n",
       "      <td>62</td>\n",
       "    </tr>\n",
       "    <tr>\n",
       "      <th>4</th>\n",
       "      <td>54.00</td>\n",
       "      <td>1</td>\n",
       "      <td>67</td>\n",
       "    </tr>\n",
       "  </tbody>\n",
       "</table>\n",
       "</div>"
      ],
      "text/plain": [
       "   Percent_Degree  Experience_Yrs  Marks_BOCA\n",
       "0           52.00               0          74\n",
       "1           75.48               1          75\n",
       "2           66.63               0          59\n",
       "3           58.00               0          62\n",
       "4           54.00               1          67"
      ]
     },
     "execution_count": 116,
     "metadata": {},
     "output_type": "execute_result"
    }
   ],
   "source": [
    "Outliers=df[['Percent_Degree','Experience_Yrs','Marks_BOCA']]\n",
    "Outliers.head()"
   ]
  },
  {
   "cell_type": "code",
   "execution_count": 117,
   "metadata": {},
   "outputs": [],
   "source": [
    "#IQR"
   ]
  },
  {
   "cell_type": "code",
   "execution_count": 118,
   "metadata": {},
   "outputs": [
    {
     "name": "stdout",
     "output_type": "stream",
     "text": [
      "11.474999999999994\n",
      "1.0\n",
      "15.5\n"
     ]
    }
   ],
   "source": [
    "iqr=[]\n",
    "col=0\n",
    "for i in Outliers.columns:\n",
    "    q1=Outliers[i].quantile(.25)\n",
    "    q3=Outliers[i].quantile(.75)\n",
    "    iqr= q3-q1\n",
    "    col+=Outliers[i]\n",
    "    print(iqr)"
   ]
  },
  {
   "cell_type": "code",
   "execution_count": 119,
   "metadata": {},
   "outputs": [
    {
     "name": "stdout",
     "output_type": "stream",
     "text": [
      "ll is 40.312500000000014 \n",
      "ul is  86.21249999999999\n",
      "No.of Outliers in Percent Degree columns is 7\n"
     ]
    },
    {
     "data": {
      "text/html": [
       "<div>\n",
       "<style scoped>\n",
       "    .dataframe tbody tr th:only-of-type {\n",
       "        vertical-align: middle;\n",
       "    }\n",
       "\n",
       "    .dataframe tbody tr th {\n",
       "        vertical-align: top;\n",
       "    }\n",
       "\n",
       "    .dataframe thead th {\n",
       "        text-align: right;\n",
       "    }\n",
       "</style>\n",
       "<table border=\"1\" class=\"dataframe\">\n",
       "  <thead>\n",
       "    <tr style=\"text-align: right;\">\n",
       "      <th></th>\n",
       "      <th>Gender</th>\n",
       "      <th>Percent_SSC</th>\n",
       "      <th>Board_SSC</th>\n",
       "      <th>Percent_HSC</th>\n",
       "      <th>Board_HSC</th>\n",
       "      <th>Stream_HSC</th>\n",
       "      <th>Percent_Degree</th>\n",
       "      <th>Course_Degree</th>\n",
       "      <th>Experience_Yrs</th>\n",
       "      <th>Entrance_Test</th>\n",
       "      <th>Percentile_ET</th>\n",
       "      <th>Percent_MBA</th>\n",
       "      <th>Specialization_MBA</th>\n",
       "      <th>Marks_Communication</th>\n",
       "      <th>Marks_Projectwork</th>\n",
       "      <th>Marks_BOCA</th>\n",
       "      <th>Placement</th>\n",
       "      <th>Salary</th>\n",
       "    </tr>\n",
       "  </thead>\n",
       "  <tbody>\n",
       "    <tr>\n",
       "      <th>17</th>\n",
       "      <td>M</td>\n",
       "      <td>37.33</td>\n",
       "      <td>Others</td>\n",
       "      <td>47.4</td>\n",
       "      <td>Others</td>\n",
       "      <td>Commerce</td>\n",
       "      <td>35.5</td>\n",
       "      <td>Commerce</td>\n",
       "      <td>0</td>\n",
       "      <td>No test</td>\n",
       "      <td>0.00</td>\n",
       "      <td>54.78</td>\n",
       "      <td>Marketing &amp; HR</td>\n",
       "      <td>50</td>\n",
       "      <td>57</td>\n",
       "      <td>50</td>\n",
       "      <td>Placed</td>\n",
       "      <td>240000</td>\n",
       "    </tr>\n",
       "    <tr>\n",
       "      <th>52</th>\n",
       "      <td>F</td>\n",
       "      <td>68.00</td>\n",
       "      <td>CBSE</td>\n",
       "      <td>69.0</td>\n",
       "      <td>CBSE</td>\n",
       "      <td>Commerce</td>\n",
       "      <td>40.0</td>\n",
       "      <td>Commerce</td>\n",
       "      <td>0</td>\n",
       "      <td>MAT</td>\n",
       "      <td>74.00</td>\n",
       "      <td>62.80</td>\n",
       "      <td>Marketing &amp; HR</td>\n",
       "      <td>55</td>\n",
       "      <td>59</td>\n",
       "      <td>82</td>\n",
       "      <td>Placed</td>\n",
       "      <td>180000</td>\n",
       "    </tr>\n",
       "    <tr>\n",
       "      <th>144</th>\n",
       "      <td>F</td>\n",
       "      <td>52.00</td>\n",
       "      <td>Others</td>\n",
       "      <td>59.0</td>\n",
       "      <td>Others</td>\n",
       "      <td>Arts</td>\n",
       "      <td>38.0</td>\n",
       "      <td>Arts</td>\n",
       "      <td>1</td>\n",
       "      <td>MAT</td>\n",
       "      <td>40.00</td>\n",
       "      <td>62.01</td>\n",
       "      <td>Marketing &amp; HR</td>\n",
       "      <td>52</td>\n",
       "      <td>69</td>\n",
       "      <td>64</td>\n",
       "      <td>Placed</td>\n",
       "      <td>276000</td>\n",
       "    </tr>\n",
       "    <tr>\n",
       "      <th>185</th>\n",
       "      <td>F</td>\n",
       "      <td>77.00</td>\n",
       "      <td>ICSE</td>\n",
       "      <td>79.0</td>\n",
       "      <td>ISC</td>\n",
       "      <td>Commerce</td>\n",
       "      <td>86.7</td>\n",
       "      <td>Management</td>\n",
       "      <td>1</td>\n",
       "      <td>K-MAT</td>\n",
       "      <td>95.00</td>\n",
       "      <td>67.83</td>\n",
       "      <td>Marketing &amp; Finance</td>\n",
       "      <td>75</td>\n",
       "      <td>79</td>\n",
       "      <td>75</td>\n",
       "      <td>Placed</td>\n",
       "      <td>450000</td>\n",
       "    </tr>\n",
       "    <tr>\n",
       "      <th>317</th>\n",
       "      <td>F</td>\n",
       "      <td>37.30</td>\n",
       "      <td>Others</td>\n",
       "      <td>44.4</td>\n",
       "      <td>Others</td>\n",
       "      <td>Commerce</td>\n",
       "      <td>35.0</td>\n",
       "      <td>Commerce</td>\n",
       "      <td>0</td>\n",
       "      <td>No test</td>\n",
       "      <td>0.00</td>\n",
       "      <td>61.66</td>\n",
       "      <td>Marketing &amp; Finance</td>\n",
       "      <td>62</td>\n",
       "      <td>66</td>\n",
       "      <td>69</td>\n",
       "      <td>Not Placed</td>\n",
       "      <td>0</td>\n",
       "    </tr>\n",
       "    <tr>\n",
       "      <th>340</th>\n",
       "      <td>F</td>\n",
       "      <td>80.96</td>\n",
       "      <td>Others</td>\n",
       "      <td>45.0</td>\n",
       "      <td>Others</td>\n",
       "      <td>Science</td>\n",
       "      <td>89.0</td>\n",
       "      <td>Computer Applications</td>\n",
       "      <td>0</td>\n",
       "      <td>MAT</td>\n",
       "      <td>59.32</td>\n",
       "      <td>69.71</td>\n",
       "      <td>Marketing &amp; HR</td>\n",
       "      <td>76</td>\n",
       "      <td>77</td>\n",
       "      <td>66</td>\n",
       "      <td>Placed</td>\n",
       "      <td>260000</td>\n",
       "    </tr>\n",
       "    <tr>\n",
       "      <th>379</th>\n",
       "      <td>F</td>\n",
       "      <td>85.80</td>\n",
       "      <td>CBSE</td>\n",
       "      <td>85.0</td>\n",
       "      <td>CBSE</td>\n",
       "      <td>Science</td>\n",
       "      <td>88.8</td>\n",
       "      <td>Management</td>\n",
       "      <td>0</td>\n",
       "      <td>MAT</td>\n",
       "      <td>96.16</td>\n",
       "      <td>77.30</td>\n",
       "      <td>Marketing &amp; HR</td>\n",
       "      <td>88</td>\n",
       "      <td>80</td>\n",
       "      <td>63</td>\n",
       "      <td>Placed</td>\n",
       "      <td>300000</td>\n",
       "    </tr>\n",
       "  </tbody>\n",
       "</table>\n",
       "</div>"
      ],
      "text/plain": [
       "    Gender  Percent_SSC Board_SSC  Percent_HSC Board_HSC Stream_HSC  \\\n",
       "17       M        37.33    Others         47.4    Others   Commerce   \n",
       "52       F        68.00      CBSE         69.0      CBSE   Commerce   \n",
       "144      F        52.00    Others         59.0    Others       Arts   \n",
       "185      F        77.00      ICSE         79.0       ISC   Commerce   \n",
       "317      F        37.30    Others         44.4    Others   Commerce   \n",
       "340      F        80.96    Others         45.0    Others    Science   \n",
       "379      F        85.80      CBSE         85.0      CBSE    Science   \n",
       "\n",
       "     Percent_Degree          Course_Degree  Experience_Yrs Entrance_Test  \\\n",
       "17             35.5               Commerce               0       No test   \n",
       "52             40.0               Commerce               0           MAT   \n",
       "144            38.0                   Arts               1           MAT   \n",
       "185            86.7             Management               1         K-MAT   \n",
       "317            35.0               Commerce               0       No test   \n",
       "340            89.0  Computer Applications               0           MAT   \n",
       "379            88.8             Management               0           MAT   \n",
       "\n",
       "     Percentile_ET  Percent_MBA   Specialization_MBA  Marks_Communication  \\\n",
       "17            0.00        54.78       Marketing & HR                   50   \n",
       "52           74.00        62.80       Marketing & HR                   55   \n",
       "144          40.00        62.01       Marketing & HR                   52   \n",
       "185          95.00        67.83  Marketing & Finance                   75   \n",
       "317           0.00        61.66  Marketing & Finance                   62   \n",
       "340          59.32        69.71       Marketing & HR                   76   \n",
       "379          96.16        77.30       Marketing & HR                   88   \n",
       "\n",
       "     Marks_Projectwork  Marks_BOCA   Placement  Salary  \n",
       "17                  57          50      Placed  240000  \n",
       "52                  59          82      Placed  180000  \n",
       "144                 69          64      Placed  276000  \n",
       "185                 79          75      Placed  450000  \n",
       "317                 66          69  Not Placed       0  \n",
       "340                 77          66      Placed  260000  \n",
       "379                 80          63      Placed  300000  "
      ]
     },
     "execution_count": 119,
     "metadata": {},
     "output_type": "execute_result"
    }
   ],
   "source": [
    "q1=Outliers['Percent_Degree'].quantile(.25)\n",
    "q3=Outliers['Percent_Degree'].quantile(.75)\n",
    "iqr= q3-q1\n",
    "ul=q3+1.5*iqr\n",
    "ll=q1-1.5*iqr\n",
    "print('ll is',ll,'\\n''ul is ',ul)\n",
    "print('No.of Outliers in Percent Degree columns is',len(df[(df['Percent_Degree']<ll) | (df['Percent_Degree']>ul)]))\n",
    "df[(df['Percent_Degree']<ll) | (df['Percent_Degree']>ul)]"
   ]
  },
  {
   "cell_type": "code",
   "execution_count": 120,
   "metadata": {},
   "outputs": [
    {
     "name": "stdout",
     "output_type": "stream",
     "text": [
      "ll is -1.5 \n",
      "ul is  2.5\n",
      "No.of Outliers in Percent Degree columns is 4\n"
     ]
    },
    {
     "data": {
      "text/html": [
       "<div>\n",
       "<style scoped>\n",
       "    .dataframe tbody tr th:only-of-type {\n",
       "        vertical-align: middle;\n",
       "    }\n",
       "\n",
       "    .dataframe tbody tr th {\n",
       "        vertical-align: top;\n",
       "    }\n",
       "\n",
       "    .dataframe thead th {\n",
       "        text-align: right;\n",
       "    }\n",
       "</style>\n",
       "<table border=\"1\" class=\"dataframe\">\n",
       "  <thead>\n",
       "    <tr style=\"text-align: right;\">\n",
       "      <th></th>\n",
       "      <th>Gender</th>\n",
       "      <th>Percent_SSC</th>\n",
       "      <th>Board_SSC</th>\n",
       "      <th>Percent_HSC</th>\n",
       "      <th>Board_HSC</th>\n",
       "      <th>Stream_HSC</th>\n",
       "      <th>Percent_Degree</th>\n",
       "      <th>Course_Degree</th>\n",
       "      <th>Experience_Yrs</th>\n",
       "      <th>Entrance_Test</th>\n",
       "      <th>Percentile_ET</th>\n",
       "      <th>Percent_MBA</th>\n",
       "      <th>Specialization_MBA</th>\n",
       "      <th>Marks_Communication</th>\n",
       "      <th>Marks_Projectwork</th>\n",
       "      <th>Marks_BOCA</th>\n",
       "      <th>Placement</th>\n",
       "      <th>Salary</th>\n",
       "    </tr>\n",
       "  </thead>\n",
       "  <tbody>\n",
       "    <tr>\n",
       "      <th>204</th>\n",
       "      <td>F</td>\n",
       "      <td>59.00</td>\n",
       "      <td>ICSE</td>\n",
       "      <td>62.00</td>\n",
       "      <td>Others</td>\n",
       "      <td>Science</td>\n",
       "      <td>65.6</td>\n",
       "      <td>Engineering</td>\n",
       "      <td>3</td>\n",
       "      <td>MAT</td>\n",
       "      <td>55.67</td>\n",
       "      <td>71.49</td>\n",
       "      <td>Marketing &amp; HR</td>\n",
       "      <td>80</td>\n",
       "      <td>77</td>\n",
       "      <td>58</td>\n",
       "      <td>Placed</td>\n",
       "      <td>250000</td>\n",
       "    </tr>\n",
       "    <tr>\n",
       "      <th>244</th>\n",
       "      <td>M</td>\n",
       "      <td>59.00</td>\n",
       "      <td>ICSE</td>\n",
       "      <td>57.00</td>\n",
       "      <td>ISC</td>\n",
       "      <td>Commerce</td>\n",
       "      <td>55.0</td>\n",
       "      <td>Commerce</td>\n",
       "      <td>3</td>\n",
       "      <td>K-MAT</td>\n",
       "      <td>65.00</td>\n",
       "      <td>59.54</td>\n",
       "      <td>Marketing &amp; Finance</td>\n",
       "      <td>55</td>\n",
       "      <td>76</td>\n",
       "      <td>62</td>\n",
       "      <td>Placed</td>\n",
       "      <td>530000</td>\n",
       "    </tr>\n",
       "    <tr>\n",
       "      <th>256</th>\n",
       "      <td>F</td>\n",
       "      <td>78.94</td>\n",
       "      <td>Others</td>\n",
       "      <td>77.83</td>\n",
       "      <td>Others</td>\n",
       "      <td>Commerce</td>\n",
       "      <td>77.0</td>\n",
       "      <td>Commerce</td>\n",
       "      <td>3</td>\n",
       "      <td>No test</td>\n",
       "      <td>0.00</td>\n",
       "      <td>68.55</td>\n",
       "      <td>Marketing &amp; HR</td>\n",
       "      <td>69</td>\n",
       "      <td>76</td>\n",
       "      <td>84</td>\n",
       "      <td>Placed</td>\n",
       "      <td>250000</td>\n",
       "    </tr>\n",
       "    <tr>\n",
       "      <th>371</th>\n",
       "      <td>M</td>\n",
       "      <td>62.00</td>\n",
       "      <td>Others</td>\n",
       "      <td>62.00</td>\n",
       "      <td>Others</td>\n",
       "      <td>Commerce</td>\n",
       "      <td>71.0</td>\n",
       "      <td>Commerce</td>\n",
       "      <td>3</td>\n",
       "      <td>MAT</td>\n",
       "      <td>59.00</td>\n",
       "      <td>69.72</td>\n",
       "      <td>Marketing &amp; Finance</td>\n",
       "      <td>63</td>\n",
       "      <td>71</td>\n",
       "      <td>61</td>\n",
       "      <td>Placed</td>\n",
       "      <td>295000</td>\n",
       "    </tr>\n",
       "  </tbody>\n",
       "</table>\n",
       "</div>"
      ],
      "text/plain": [
       "    Gender  Percent_SSC Board_SSC  Percent_HSC Board_HSC Stream_HSC  \\\n",
       "204      F        59.00      ICSE        62.00    Others    Science   \n",
       "244      M        59.00      ICSE        57.00       ISC   Commerce   \n",
       "256      F        78.94    Others        77.83    Others   Commerce   \n",
       "371      M        62.00    Others        62.00    Others   Commerce   \n",
       "\n",
       "     Percent_Degree Course_Degree  Experience_Yrs Entrance_Test  \\\n",
       "204            65.6   Engineering               3           MAT   \n",
       "244            55.0      Commerce               3         K-MAT   \n",
       "256            77.0      Commerce               3       No test   \n",
       "371            71.0      Commerce               3           MAT   \n",
       "\n",
       "     Percentile_ET  Percent_MBA   Specialization_MBA  Marks_Communication  \\\n",
       "204          55.67        71.49       Marketing & HR                   80   \n",
       "244          65.00        59.54  Marketing & Finance                   55   \n",
       "256           0.00        68.55       Marketing & HR                   69   \n",
       "371          59.00        69.72  Marketing & Finance                   63   \n",
       "\n",
       "     Marks_Projectwork  Marks_BOCA Placement  Salary  \n",
       "204                 77          58    Placed  250000  \n",
       "244                 76          62    Placed  530000  \n",
       "256                 76          84    Placed  250000  \n",
       "371                 71          61    Placed  295000  "
      ]
     },
     "execution_count": 120,
     "metadata": {},
     "output_type": "execute_result"
    }
   ],
   "source": [
    "q1=Outliers['Experience_Yrs'].quantile(.25)\n",
    "q3=Outliers['Experience_Yrs'].quantile(.75)\n",
    "iqr= q3-q1\n",
    "ul=q3+1.5*iqr\n",
    "ll=q1-1.5*iqr\n",
    "print('ll is',ll,'\\n''ul is ',ul)\n",
    "print('No.of Outliers in Percent Degree columns is',len(df[(df['Experience_Yrs']<ll) | (df['Experience_Yrs']>ul)]))\n",
    "df[(df['Experience_Yrs']<ll) | (df['Experience_Yrs']>ul)]"
   ]
  },
  {
   "cell_type": "code",
   "execution_count": 121,
   "metadata": {},
   "outputs": [
    {
     "name": "stdout",
     "output_type": "stream",
     "text": [
      "ll is 33.75 \n",
      "ul is  95.75\n",
      "No.of Outliers in Percent Degree columns is 1\n"
     ]
    },
    {
     "data": {
      "text/html": [
       "<div>\n",
       "<style scoped>\n",
       "    .dataframe tbody tr th:only-of-type {\n",
       "        vertical-align: middle;\n",
       "    }\n",
       "\n",
       "    .dataframe tbody tr th {\n",
       "        vertical-align: top;\n",
       "    }\n",
       "\n",
       "    .dataframe thead th {\n",
       "        text-align: right;\n",
       "    }\n",
       "</style>\n",
       "<table border=\"1\" class=\"dataframe\">\n",
       "  <thead>\n",
       "    <tr style=\"text-align: right;\">\n",
       "      <th></th>\n",
       "      <th>Gender</th>\n",
       "      <th>Percent_SSC</th>\n",
       "      <th>Board_SSC</th>\n",
       "      <th>Percent_HSC</th>\n",
       "      <th>Board_HSC</th>\n",
       "      <th>Stream_HSC</th>\n",
       "      <th>Percent_Degree</th>\n",
       "      <th>Course_Degree</th>\n",
       "      <th>Experience_Yrs</th>\n",
       "      <th>Entrance_Test</th>\n",
       "      <th>Percentile_ET</th>\n",
       "      <th>Percent_MBA</th>\n",
       "      <th>Specialization_MBA</th>\n",
       "      <th>Marks_Communication</th>\n",
       "      <th>Marks_Projectwork</th>\n",
       "      <th>Marks_BOCA</th>\n",
       "      <th>Placement</th>\n",
       "      <th>Salary</th>\n",
       "    </tr>\n",
       "  </thead>\n",
       "  <tbody>\n",
       "    <tr>\n",
       "      <th>171</th>\n",
       "      <td>F</td>\n",
       "      <td>73.0</td>\n",
       "      <td>CBSE</td>\n",
       "      <td>65.0</td>\n",
       "      <td>CBSE</td>\n",
       "      <td>Science</td>\n",
       "      <td>74.0</td>\n",
       "      <td>Management</td>\n",
       "      <td>1</td>\n",
       "      <td>MAT</td>\n",
       "      <td>66.0</td>\n",
       "      <td>64.44</td>\n",
       "      <td>Marketing &amp; Finance</td>\n",
       "      <td>62</td>\n",
       "      <td>77</td>\n",
       "      <td>96</td>\n",
       "      <td>Placed</td>\n",
       "      <td>300000</td>\n",
       "    </tr>\n",
       "  </tbody>\n",
       "</table>\n",
       "</div>"
      ],
      "text/plain": [
       "    Gender  Percent_SSC Board_SSC  Percent_HSC Board_HSC Stream_HSC  \\\n",
       "171      F         73.0      CBSE         65.0      CBSE    Science   \n",
       "\n",
       "     Percent_Degree Course_Degree  Experience_Yrs Entrance_Test  \\\n",
       "171            74.0    Management               1           MAT   \n",
       "\n",
       "     Percentile_ET  Percent_MBA   Specialization_MBA  Marks_Communication  \\\n",
       "171           66.0        64.44  Marketing & Finance                   62   \n",
       "\n",
       "     Marks_Projectwork  Marks_BOCA Placement  Salary  \n",
       "171                 77          96    Placed  300000  "
      ]
     },
     "execution_count": 121,
     "metadata": {},
     "output_type": "execute_result"
    }
   ],
   "source": [
    "q1=Outliers['Marks_BOCA'].quantile(.25)\n",
    "q3=Outliers['Marks_BOCA'].quantile(.75)\n",
    "iqr= q3-q1\n",
    "ul=q3+1.5*iqr\n",
    "ll=q1-1.5*iqr\n",
    "print('ll is',ll,'\\n''ul is ',ul)\n",
    "print('No.of Outliers in Percent Degree columns is',len(df[(df['Marks_BOCA']<ll) | (df['Marks_BOCA']>ul)]))\n",
    "df[(df['Marks_BOCA']<ll) | (df['Marks_BOCA']>ul)]"
   ]
  },
  {
   "cell_type": "code",
   "execution_count": 122,
   "metadata": {},
   "outputs": [],
   "source": [
    "# As there arent many Outliers in columns I am dropping those"
   ]
  },
  {
   "cell_type": "code",
   "execution_count": 123,
   "metadata": {},
   "outputs": [],
   "source": [
    "df['Percent_Degree']=df[(df['Percent_Degree']>ll) & (df['Percent_Degree']<ul)]\n",
    "df['Marks_BOCA']=df[(df['Marks_BOCA']>ll) & (df['Marks_BOCA']<ul)]"
   ]
  },
  {
   "cell_type": "markdown",
   "metadata": {},
   "source": [
    "Encoding Coding"
   ]
  },
  {
   "cell_type": "code",
   "execution_count": 124,
   "metadata": {},
   "outputs": [
    {
     "data": {
      "text/plain": [
       "Index(['Gender', 'Board_SSC', 'Board_HSC', 'Stream_HSC', 'Percent_Degree',\n",
       "       'Course_Degree', 'Entrance_Test', 'Specialization_MBA', 'Marks_BOCA',\n",
       "       'Placement'],\n",
       "      dtype='object')"
      ]
     },
     "execution_count": 124,
     "metadata": {},
     "output_type": "execute_result"
    }
   ],
   "source": [
    "Cat_col=df.select_dtypes(include='object').columns\n",
    "Cat_col"
   ]
  },
  {
   "cell_type": "code",
   "execution_count": 125,
   "metadata": {},
   "outputs": [],
   "source": [
    "cat_col=pd.get_dummies(df[['Gender', 'Board_SSC', 'Board_HSC', 'Stream_HSC', 'Percent_Degree',\n",
    "       'Course_Degree', 'Entrance_Test', 'Specialization_MBA', 'Marks_BOCA',\n",
    "       'Placement']],drop_first=True)"
   ]
  },
  {
   "cell_type": "code",
   "execution_count": 126,
   "metadata": {},
   "outputs": [
    {
     "data": {
      "text/html": [
       "<div>\n",
       "<style scoped>\n",
       "    .dataframe tbody tr th:only-of-type {\n",
       "        vertical-align: middle;\n",
       "    }\n",
       "\n",
       "    .dataframe tbody tr th {\n",
       "        vertical-align: top;\n",
       "    }\n",
       "\n",
       "    .dataframe thead th {\n",
       "        text-align: right;\n",
       "    }\n",
       "</style>\n",
       "<table border=\"1\" class=\"dataframe\">\n",
       "  <thead>\n",
       "    <tr style=\"text-align: right;\">\n",
       "      <th></th>\n",
       "      <th>Gender_M</th>\n",
       "      <th>Board_SSC_ICSE</th>\n",
       "      <th>Board_SSC_Others</th>\n",
       "      <th>Board_HSC_ISC</th>\n",
       "      <th>Board_HSC_Others</th>\n",
       "      <th>Stream_HSC_Commerce</th>\n",
       "      <th>Stream_HSC_Science</th>\n",
       "      <th>Percent_Degree_M</th>\n",
       "      <th>Course_Degree_Commerce</th>\n",
       "      <th>Course_Degree_Computer Applications</th>\n",
       "      <th>...</th>\n",
       "      <th>Entrance_Test_GCET</th>\n",
       "      <th>Entrance_Test_K-MAT</th>\n",
       "      <th>Entrance_Test_MAT</th>\n",
       "      <th>Entrance_Test_No test</th>\n",
       "      <th>Entrance_Test_PGCET</th>\n",
       "      <th>Entrance_Test_XAT</th>\n",
       "      <th>Specialization_MBA_Marketing &amp; HR</th>\n",
       "      <th>Specialization_MBA_Marketing &amp; IB</th>\n",
       "      <th>Marks_BOCA_M</th>\n",
       "      <th>Placement_Placed</th>\n",
       "    </tr>\n",
       "  </thead>\n",
       "  <tbody>\n",
       "    <tr>\n",
       "      <th>0</th>\n",
       "      <td>1</td>\n",
       "      <td>0</td>\n",
       "      <td>1</td>\n",
       "      <td>0</td>\n",
       "      <td>1</td>\n",
       "      <td>1</td>\n",
       "      <td>0</td>\n",
       "      <td>1</td>\n",
       "      <td>0</td>\n",
       "      <td>0</td>\n",
       "      <td>...</td>\n",
       "      <td>0</td>\n",
       "      <td>0</td>\n",
       "      <td>1</td>\n",
       "      <td>0</td>\n",
       "      <td>0</td>\n",
       "      <td>0</td>\n",
       "      <td>1</td>\n",
       "      <td>0</td>\n",
       "      <td>1</td>\n",
       "      <td>1</td>\n",
       "    </tr>\n",
       "    <tr>\n",
       "      <th>1</th>\n",
       "      <td>1</td>\n",
       "      <td>1</td>\n",
       "      <td>0</td>\n",
       "      <td>0</td>\n",
       "      <td>1</td>\n",
       "      <td>0</td>\n",
       "      <td>1</td>\n",
       "      <td>1</td>\n",
       "      <td>0</td>\n",
       "      <td>1</td>\n",
       "      <td>...</td>\n",
       "      <td>0</td>\n",
       "      <td>0</td>\n",
       "      <td>1</td>\n",
       "      <td>0</td>\n",
       "      <td>0</td>\n",
       "      <td>0</td>\n",
       "      <td>0</td>\n",
       "      <td>0</td>\n",
       "      <td>1</td>\n",
       "      <td>1</td>\n",
       "    </tr>\n",
       "    <tr>\n",
       "      <th>2</th>\n",
       "      <td>1</td>\n",
       "      <td>0</td>\n",
       "      <td>1</td>\n",
       "      <td>0</td>\n",
       "      <td>1</td>\n",
       "      <td>1</td>\n",
       "      <td>0</td>\n",
       "      <td>1</td>\n",
       "      <td>0</td>\n",
       "      <td>0</td>\n",
       "      <td>...</td>\n",
       "      <td>0</td>\n",
       "      <td>0</td>\n",
       "      <td>0</td>\n",
       "      <td>1</td>\n",
       "      <td>0</td>\n",
       "      <td>0</td>\n",
       "      <td>0</td>\n",
       "      <td>0</td>\n",
       "      <td>1</td>\n",
       "      <td>1</td>\n",
       "    </tr>\n",
       "    <tr>\n",
       "      <th>3</th>\n",
       "      <td>1</td>\n",
       "      <td>0</td>\n",
       "      <td>0</td>\n",
       "      <td>0</td>\n",
       "      <td>0</td>\n",
       "      <td>0</td>\n",
       "      <td>0</td>\n",
       "      <td>1</td>\n",
       "      <td>0</td>\n",
       "      <td>0</td>\n",
       "      <td>...</td>\n",
       "      <td>0</td>\n",
       "      <td>0</td>\n",
       "      <td>1</td>\n",
       "      <td>0</td>\n",
       "      <td>0</td>\n",
       "      <td>0</td>\n",
       "      <td>0</td>\n",
       "      <td>0</td>\n",
       "      <td>1</td>\n",
       "      <td>1</td>\n",
       "    </tr>\n",
       "    <tr>\n",
       "      <th>4</th>\n",
       "      <td>1</td>\n",
       "      <td>0</td>\n",
       "      <td>0</td>\n",
       "      <td>1</td>\n",
       "      <td>0</td>\n",
       "      <td>0</td>\n",
       "      <td>1</td>\n",
       "      <td>1</td>\n",
       "      <td>0</td>\n",
       "      <td>0</td>\n",
       "      <td>...</td>\n",
       "      <td>0</td>\n",
       "      <td>0</td>\n",
       "      <td>1</td>\n",
       "      <td>0</td>\n",
       "      <td>0</td>\n",
       "      <td>0</td>\n",
       "      <td>1</td>\n",
       "      <td>0</td>\n",
       "      <td>1</td>\n",
       "      <td>1</td>\n",
       "    </tr>\n",
       "  </tbody>\n",
       "</table>\n",
       "<p>5 rows × 26 columns</p>\n",
       "</div>"
      ],
      "text/plain": [
       "   Gender_M  Board_SSC_ICSE  Board_SSC_Others  Board_HSC_ISC  \\\n",
       "0         1               0                 1              0   \n",
       "1         1               1                 0              0   \n",
       "2         1               0                 1              0   \n",
       "3         1               0                 0              0   \n",
       "4         1               0                 0              1   \n",
       "\n",
       "   Board_HSC_Others  Stream_HSC_Commerce  Stream_HSC_Science  \\\n",
       "0                 1                    1                   0   \n",
       "1                 1                    0                   1   \n",
       "2                 1                    1                   0   \n",
       "3                 0                    0                   0   \n",
       "4                 0                    0                   1   \n",
       "\n",
       "   Percent_Degree_M  Course_Degree_Commerce  \\\n",
       "0                 1                       0   \n",
       "1                 1                       0   \n",
       "2                 1                       0   \n",
       "3                 1                       0   \n",
       "4                 1                       0   \n",
       "\n",
       "   Course_Degree_Computer Applications  ...  Entrance_Test_GCET  \\\n",
       "0                                    0  ...                   0   \n",
       "1                                    1  ...                   0   \n",
       "2                                    0  ...                   0   \n",
       "3                                    0  ...                   0   \n",
       "4                                    0  ...                   0   \n",
       "\n",
       "   Entrance_Test_K-MAT  Entrance_Test_MAT  Entrance_Test_No test  \\\n",
       "0                    0                  1                      0   \n",
       "1                    0                  1                      0   \n",
       "2                    0                  0                      1   \n",
       "3                    0                  1                      0   \n",
       "4                    0                  1                      0   \n",
       "\n",
       "   Entrance_Test_PGCET  Entrance_Test_XAT  Specialization_MBA_Marketing & HR  \\\n",
       "0                    0                  0                                  1   \n",
       "1                    0                  0                                  0   \n",
       "2                    0                  0                                  0   \n",
       "3                    0                  0                                  0   \n",
       "4                    0                  0                                  1   \n",
       "\n",
       "   Specialization_MBA_Marketing & IB  Marks_BOCA_M  Placement_Placed  \n",
       "0                                  0             1                 1  \n",
       "1                                  0             1                 1  \n",
       "2                                  0             1                 1  \n",
       "3                                  0             1                 1  \n",
       "4                                  0             1                 1  \n",
       "\n",
       "[5 rows x 26 columns]"
      ]
     },
     "execution_count": 126,
     "metadata": {},
     "output_type": "execute_result"
    }
   ],
   "source": [
    "cat_col.head()"
   ]
  },
  {
   "cell_type": "code",
   "execution_count": 212,
   "metadata": {},
   "outputs": [],
   "source": [
    "num_col=df[['Percent_SSC', 'Percent_HSC',\n",
    "       'Experience_Yrs', 'Percentile_ET', 'Percent_MBA', 'Marks_Communication',\n",
    "       'Marks_Projectwork', 'Salary']]"
   ]
  },
  {
   "cell_type": "code",
   "execution_count": 213,
   "metadata": {},
   "outputs": [
    {
     "data": {
      "text/html": [
       "<div>\n",
       "<style scoped>\n",
       "    .dataframe tbody tr th:only-of-type {\n",
       "        vertical-align: middle;\n",
       "    }\n",
       "\n",
       "    .dataframe tbody tr th {\n",
       "        vertical-align: top;\n",
       "    }\n",
       "\n",
       "    .dataframe thead th {\n",
       "        text-align: right;\n",
       "    }\n",
       "</style>\n",
       "<table border=\"1\" class=\"dataframe\">\n",
       "  <thead>\n",
       "    <tr style=\"text-align: right;\">\n",
       "      <th></th>\n",
       "      <th>Percent_SSC</th>\n",
       "      <th>Percent_HSC</th>\n",
       "      <th>Experience_Yrs</th>\n",
       "      <th>Percentile_ET</th>\n",
       "      <th>Percent_MBA</th>\n",
       "      <th>Marks_Communication</th>\n",
       "      <th>Marks_Projectwork</th>\n",
       "      <th>Salary</th>\n",
       "    </tr>\n",
       "  </thead>\n",
       "  <tbody>\n",
       "    <tr>\n",
       "      <th>0</th>\n",
       "      <td>62.00</td>\n",
       "      <td>88.00</td>\n",
       "      <td>0</td>\n",
       "      <td>55.0</td>\n",
       "      <td>58.80</td>\n",
       "      <td>50</td>\n",
       "      <td>65</td>\n",
       "      <td>270000</td>\n",
       "    </tr>\n",
       "    <tr>\n",
       "      <th>1</th>\n",
       "      <td>76.33</td>\n",
       "      <td>75.33</td>\n",
       "      <td>1</td>\n",
       "      <td>86.5</td>\n",
       "      <td>66.28</td>\n",
       "      <td>69</td>\n",
       "      <td>70</td>\n",
       "      <td>200000</td>\n",
       "    </tr>\n",
       "    <tr>\n",
       "      <th>2</th>\n",
       "      <td>72.00</td>\n",
       "      <td>78.00</td>\n",
       "      <td>0</td>\n",
       "      <td>0.0</td>\n",
       "      <td>52.91</td>\n",
       "      <td>50</td>\n",
       "      <td>61</td>\n",
       "      <td>240000</td>\n",
       "    </tr>\n",
       "    <tr>\n",
       "      <th>3</th>\n",
       "      <td>60.00</td>\n",
       "      <td>63.00</td>\n",
       "      <td>0</td>\n",
       "      <td>75.0</td>\n",
       "      <td>57.80</td>\n",
       "      <td>54</td>\n",
       "      <td>66</td>\n",
       "      <td>250000</td>\n",
       "    </tr>\n",
       "    <tr>\n",
       "      <th>4</th>\n",
       "      <td>61.00</td>\n",
       "      <td>55.00</td>\n",
       "      <td>1</td>\n",
       "      <td>66.0</td>\n",
       "      <td>59.43</td>\n",
       "      <td>52</td>\n",
       "      <td>65</td>\n",
       "      <td>180000</td>\n",
       "    </tr>\n",
       "  </tbody>\n",
       "</table>\n",
       "</div>"
      ],
      "text/plain": [
       "   Percent_SSC  Percent_HSC  Experience_Yrs  Percentile_ET  Percent_MBA  \\\n",
       "0        62.00        88.00               0           55.0        58.80   \n",
       "1        76.33        75.33               1           86.5        66.28   \n",
       "2        72.00        78.00               0            0.0        52.91   \n",
       "3        60.00        63.00               0           75.0        57.80   \n",
       "4        61.00        55.00               1           66.0        59.43   \n",
       "\n",
       "   Marks_Communication  Marks_Projectwork  Salary  \n",
       "0                   50                 65  270000  \n",
       "1                   69                 70  200000  \n",
       "2                   50                 61  240000  \n",
       "3                   54                 66  250000  \n",
       "4                   52                 65  180000  "
      ]
     },
     "execution_count": 213,
     "metadata": {},
     "output_type": "execute_result"
    }
   ],
   "source": [
    "num_col.head()"
   ]
  },
  {
   "cell_type": "code",
   "execution_count": 214,
   "metadata": {},
   "outputs": [],
   "source": [
    "final_data=pd.concat([num_col,cat_col],axis=1)"
   ]
  },
  {
   "cell_type": "code",
   "execution_count": 215,
   "metadata": {},
   "outputs": [
    {
     "data": {
      "text/html": [
       "<div>\n",
       "<style scoped>\n",
       "    .dataframe tbody tr th:only-of-type {\n",
       "        vertical-align: middle;\n",
       "    }\n",
       "\n",
       "    .dataframe tbody tr th {\n",
       "        vertical-align: top;\n",
       "    }\n",
       "\n",
       "    .dataframe thead th {\n",
       "        text-align: right;\n",
       "    }\n",
       "</style>\n",
       "<table border=\"1\" class=\"dataframe\">\n",
       "  <thead>\n",
       "    <tr style=\"text-align: right;\">\n",
       "      <th></th>\n",
       "      <th>Percent_SSC</th>\n",
       "      <th>Percent_HSC</th>\n",
       "      <th>Experience_Yrs</th>\n",
       "      <th>Percentile_ET</th>\n",
       "      <th>Percent_MBA</th>\n",
       "      <th>Marks_Communication</th>\n",
       "      <th>Marks_Projectwork</th>\n",
       "      <th>Salary</th>\n",
       "      <th>Gender_M</th>\n",
       "      <th>Board_SSC_ICSE</th>\n",
       "      <th>...</th>\n",
       "      <th>Entrance_Test_GCET</th>\n",
       "      <th>Entrance_Test_K-MAT</th>\n",
       "      <th>Entrance_Test_MAT</th>\n",
       "      <th>Entrance_Test_No test</th>\n",
       "      <th>Entrance_Test_PGCET</th>\n",
       "      <th>Entrance_Test_XAT</th>\n",
       "      <th>Specialization_MBA_Marketing &amp; HR</th>\n",
       "      <th>Specialization_MBA_Marketing &amp; IB</th>\n",
       "      <th>Marks_BOCA_M</th>\n",
       "      <th>Placement_Placed</th>\n",
       "    </tr>\n",
       "  </thead>\n",
       "  <tbody>\n",
       "    <tr>\n",
       "      <th>0</th>\n",
       "      <td>62.00</td>\n",
       "      <td>88.00</td>\n",
       "      <td>0</td>\n",
       "      <td>55.0</td>\n",
       "      <td>58.80</td>\n",
       "      <td>50</td>\n",
       "      <td>65</td>\n",
       "      <td>270000</td>\n",
       "      <td>1</td>\n",
       "      <td>0</td>\n",
       "      <td>...</td>\n",
       "      <td>0</td>\n",
       "      <td>0</td>\n",
       "      <td>1</td>\n",
       "      <td>0</td>\n",
       "      <td>0</td>\n",
       "      <td>0</td>\n",
       "      <td>1</td>\n",
       "      <td>0</td>\n",
       "      <td>1</td>\n",
       "      <td>1</td>\n",
       "    </tr>\n",
       "    <tr>\n",
       "      <th>1</th>\n",
       "      <td>76.33</td>\n",
       "      <td>75.33</td>\n",
       "      <td>1</td>\n",
       "      <td>86.5</td>\n",
       "      <td>66.28</td>\n",
       "      <td>69</td>\n",
       "      <td>70</td>\n",
       "      <td>200000</td>\n",
       "      <td>1</td>\n",
       "      <td>1</td>\n",
       "      <td>...</td>\n",
       "      <td>0</td>\n",
       "      <td>0</td>\n",
       "      <td>1</td>\n",
       "      <td>0</td>\n",
       "      <td>0</td>\n",
       "      <td>0</td>\n",
       "      <td>0</td>\n",
       "      <td>0</td>\n",
       "      <td>1</td>\n",
       "      <td>1</td>\n",
       "    </tr>\n",
       "    <tr>\n",
       "      <th>2</th>\n",
       "      <td>72.00</td>\n",
       "      <td>78.00</td>\n",
       "      <td>0</td>\n",
       "      <td>0.0</td>\n",
       "      <td>52.91</td>\n",
       "      <td>50</td>\n",
       "      <td>61</td>\n",
       "      <td>240000</td>\n",
       "      <td>1</td>\n",
       "      <td>0</td>\n",
       "      <td>...</td>\n",
       "      <td>0</td>\n",
       "      <td>0</td>\n",
       "      <td>0</td>\n",
       "      <td>1</td>\n",
       "      <td>0</td>\n",
       "      <td>0</td>\n",
       "      <td>0</td>\n",
       "      <td>0</td>\n",
       "      <td>1</td>\n",
       "      <td>1</td>\n",
       "    </tr>\n",
       "    <tr>\n",
       "      <th>3</th>\n",
       "      <td>60.00</td>\n",
       "      <td>63.00</td>\n",
       "      <td>0</td>\n",
       "      <td>75.0</td>\n",
       "      <td>57.80</td>\n",
       "      <td>54</td>\n",
       "      <td>66</td>\n",
       "      <td>250000</td>\n",
       "      <td>1</td>\n",
       "      <td>0</td>\n",
       "      <td>...</td>\n",
       "      <td>0</td>\n",
       "      <td>0</td>\n",
       "      <td>1</td>\n",
       "      <td>0</td>\n",
       "      <td>0</td>\n",
       "      <td>0</td>\n",
       "      <td>0</td>\n",
       "      <td>0</td>\n",
       "      <td>1</td>\n",
       "      <td>1</td>\n",
       "    </tr>\n",
       "    <tr>\n",
       "      <th>4</th>\n",
       "      <td>61.00</td>\n",
       "      <td>55.00</td>\n",
       "      <td>1</td>\n",
       "      <td>66.0</td>\n",
       "      <td>59.43</td>\n",
       "      <td>52</td>\n",
       "      <td>65</td>\n",
       "      <td>180000</td>\n",
       "      <td>1</td>\n",
       "      <td>0</td>\n",
       "      <td>...</td>\n",
       "      <td>0</td>\n",
       "      <td>0</td>\n",
       "      <td>1</td>\n",
       "      <td>0</td>\n",
       "      <td>0</td>\n",
       "      <td>0</td>\n",
       "      <td>1</td>\n",
       "      <td>0</td>\n",
       "      <td>1</td>\n",
       "      <td>1</td>\n",
       "    </tr>\n",
       "  </tbody>\n",
       "</table>\n",
       "<p>5 rows × 34 columns</p>\n",
       "</div>"
      ],
      "text/plain": [
       "   Percent_SSC  Percent_HSC  Experience_Yrs  Percentile_ET  Percent_MBA  \\\n",
       "0        62.00        88.00               0           55.0        58.80   \n",
       "1        76.33        75.33               1           86.5        66.28   \n",
       "2        72.00        78.00               0            0.0        52.91   \n",
       "3        60.00        63.00               0           75.0        57.80   \n",
       "4        61.00        55.00               1           66.0        59.43   \n",
       "\n",
       "   Marks_Communication  Marks_Projectwork  Salary  Gender_M  Board_SSC_ICSE  \\\n",
       "0                   50                 65  270000         1               0   \n",
       "1                   69                 70  200000         1               1   \n",
       "2                   50                 61  240000         1               0   \n",
       "3                   54                 66  250000         1               0   \n",
       "4                   52                 65  180000         1               0   \n",
       "\n",
       "   ...  Entrance_Test_GCET  Entrance_Test_K-MAT  Entrance_Test_MAT  \\\n",
       "0  ...                   0                    0                  1   \n",
       "1  ...                   0                    0                  1   \n",
       "2  ...                   0                    0                  0   \n",
       "3  ...                   0                    0                  1   \n",
       "4  ...                   0                    0                  1   \n",
       "\n",
       "   Entrance_Test_No test  Entrance_Test_PGCET  Entrance_Test_XAT  \\\n",
       "0                      0                    0                  0   \n",
       "1                      0                    0                  0   \n",
       "2                      1                    0                  0   \n",
       "3                      0                    0                  0   \n",
       "4                      0                    0                  0   \n",
       "\n",
       "   Specialization_MBA_Marketing & HR  Specialization_MBA_Marketing & IB  \\\n",
       "0                                  1                                  0   \n",
       "1                                  0                                  0   \n",
       "2                                  0                                  0   \n",
       "3                                  0                                  0   \n",
       "4                                  1                                  0   \n",
       "\n",
       "   Marks_BOCA_M  Placement_Placed  \n",
       "0             1                 1  \n",
       "1             1                 1  \n",
       "2             1                 1  \n",
       "3             1                 1  \n",
       "4             1                 1  \n",
       "\n",
       "[5 rows x 34 columns]"
      ]
     },
     "execution_count": 215,
     "metadata": {},
     "output_type": "execute_result"
    }
   ],
   "source": [
    "final_data.head()"
   ]
  },
  {
   "cell_type": "markdown",
   "metadata": {},
   "source": [
    "Model Building"
   ]
  },
  {
   "cell_type": "code",
   "execution_count": 216,
   "metadata": {},
   "outputs": [],
   "source": [
    "X=final_data.drop('Salary',axis=1)\n",
    "y=final_data['Salary']"
   ]
  },
  {
   "cell_type": "code",
   "execution_count": 217,
   "metadata": {},
   "outputs": [
    {
     "data": {
      "text/plain": [
       "(391, 33)"
      ]
     },
     "execution_count": 217,
     "metadata": {},
     "output_type": "execute_result"
    }
   ],
   "source": [
    "X.shape"
   ]
  },
  {
   "cell_type": "code",
   "execution_count": 218,
   "metadata": {},
   "outputs": [
    {
     "data": {
      "text/plain": [
       "(391,)"
      ]
     },
     "execution_count": 218,
     "metadata": {},
     "output_type": "execute_result"
    }
   ],
   "source": [
    "y.shape"
   ]
  },
  {
   "cell_type": "code",
   "execution_count": 219,
   "metadata": {},
   "outputs": [],
   "source": [
    "x_train,x_test,y_train,y_test=train_test_split(X,y,test_size=0.3,random_state=123)"
   ]
  },
  {
   "cell_type": "code",
   "execution_count": 153,
   "metadata": {},
   "outputs": [
    {
     "data": {
      "text/plain": [
       "(273, 33)"
      ]
     },
     "execution_count": 153,
     "metadata": {},
     "output_type": "execute_result"
    }
   ],
   "source": [
    "x_train.shape"
   ]
  },
  {
   "cell_type": "code",
   "execution_count": 154,
   "metadata": {},
   "outputs": [
    {
     "data": {
      "text/plain": [
       "(118, 33)"
      ]
     },
     "execution_count": 154,
     "metadata": {},
     "output_type": "execute_result"
    }
   ],
   "source": [
    "x_test.shape"
   ]
  },
  {
   "cell_type": "code",
   "execution_count": 155,
   "metadata": {},
   "outputs": [
    {
     "data": {
      "text/plain": [
       "(273,)"
      ]
     },
     "execution_count": 155,
     "metadata": {},
     "output_type": "execute_result"
    }
   ],
   "source": [
    "y_train.shape"
   ]
  },
  {
   "cell_type": "code",
   "execution_count": 156,
   "metadata": {},
   "outputs": [
    {
     "data": {
      "text/plain": [
       "(118,)"
      ]
     },
     "execution_count": 156,
     "metadata": {},
     "output_type": "execute_result"
    }
   ],
   "source": [
    "y_test.shape"
   ]
  },
  {
   "cell_type": "code",
   "execution_count": 157,
   "metadata": {},
   "outputs": [],
   "source": [
    "Lr= LinearRegression()"
   ]
  },
  {
   "cell_type": "code",
   "execution_count": 158,
   "metadata": {},
   "outputs": [
    {
     "data": {
      "text/plain": [
       "LinearRegression()"
      ]
     },
     "execution_count": 158,
     "metadata": {},
     "output_type": "execute_result"
    }
   ],
   "source": [
    "Lr.fit(x_train,y_train)"
   ]
  },
  {
   "cell_type": "code",
   "execution_count": 159,
   "metadata": {},
   "outputs": [],
   "source": [
    "y_pred=Lr.predict(x_test)"
   ]
  },
  {
   "cell_type": "code",
   "execution_count": 162,
   "metadata": {},
   "outputs": [
    {
     "data": {
      "text/plain": [
       "array([319163.06150698, 292759.74889   , 251490.85389661, 318026.3142703 ,\n",
       "       -57748.22473309, 206362.38910867, 309877.35232241, 311485.31888085,\n",
       "       256521.99874507,  -2086.42126039, 234770.02190007, 217236.39679679,\n",
       "       186846.58536933, 259028.35924849, 242294.0729162 , 307895.83596669,\n",
       "       337633.52626774, 277264.92776403, 288070.70821675, 286507.75274245,\n",
       "       216014.34517024, 272225.44766381, 282373.5778825 , 270031.09517017,\n",
       "        27958.67492517, 301513.07825433,   1126.08879134, 266698.42120509,\n",
       "       224033.26145178, 276984.56936314, 300910.52651989, 291972.43057911,\n",
       "       297379.60973896, 294462.46624313, 237877.34396525,  15582.78164058,\n",
       "       216788.77056399, -73709.217243  , 248012.12951867, 214297.11967698,\n",
       "       325433.76921845, 414508.25182402, 188398.37567143, 309379.30151137,\n",
       "       246203.14262934, 308331.34230389,   8719.03768572,   7034.82210983,\n",
       "       272327.54371267, 323167.00591512, 344093.38084659, 233141.01200958,\n",
       "       219687.6497414 , 269540.32253537, 330897.68485399, 277676.95473887,\n",
       "       -34126.55502316, 276640.26825471, -22465.17373777, 299275.32614783,\n",
       "       249830.12443625, -17227.84333737, 338135.79092582, 241575.77327736,\n",
       "       105274.07604741, -44713.46710357,  43254.16529526, 253795.25878021,\n",
       "       229225.20311906, 303518.30094761, 267822.88816981, 238507.86680414,\n",
       "       195679.67193092, 222053.31670121, 244844.3365084 , 232179.62779176,\n",
       "       262696.67444691, 259557.95399184, 229927.69827848, 223690.78680659,\n",
       "       323532.92942133, 363093.38185786, 281951.09048303, 281059.47066121,\n",
       "       326415.2841476 , 263703.71136922, 284678.32497394, 247015.66862076,\n",
       "       300471.3310005 , 353019.76051525, 321364.49461058, 230576.60733242,\n",
       "       287676.12062842, 236070.84214198, 326274.02838318, 249333.95434964,\n",
       "       345165.39429955,  -9487.63255963, 365403.07065019,   7293.63377251,\n",
       "       267205.2798886 , 293685.94235802, 252350.22372203, 295543.3583063 ,\n",
       "       291346.97891675, 245480.50212748, 275592.99776528,  14992.2361227 ,\n",
       "       255406.08181438, -22374.50505133, 352112.42391923,  23604.55077066,\n",
       "       -26143.47666519, 339645.1147603 , 267971.40502701, -37630.44320248,\n",
       "       251873.86853185, 273127.0053553 ])"
      ]
     },
     "execution_count": 162,
     "metadata": {},
     "output_type": "execute_result"
    }
   ],
   "source": [
    "y_pred"
   ]
  },
  {
   "cell_type": "code",
   "execution_count": 163,
   "metadata": {},
   "outputs": [
    {
     "data": {
      "text/plain": [
       "-199460.72563283003"
      ]
     },
     "execution_count": 163,
     "metadata": {},
     "output_type": "execute_result"
    }
   ],
   "source": [
    "Lr.intercept_"
   ]
  },
  {
   "cell_type": "code",
   "execution_count": 164,
   "metadata": {},
   "outputs": [
    {
     "data": {
      "text/plain": [
       "array([ 3.51919539e+02, -2.62747339e+02,  1.35760784e+04,  4.11128389e+02,\n",
       "        1.75610273e+03,  7.21550022e+02,  9.93456777e+01,  1.08072029e+04,\n",
       "        3.23557379e+02, -5.73871924e+03,  7.31635441e+03,  9.39275062e+03,\n",
       "        2.20032988e+04,  1.35389620e+04,  1.08072029e+04, -2.59421173e+03,\n",
       "       -1.19023501e+04,  3.47770774e+04, -3.24727822e+04, -3.75287335e+04,\n",
       "       -2.16498683e+04,  4.57415327e+04, -2.31781485e+04, -1.85851954e+04,\n",
       "        4.35729539e+04, -1.62525142e+04,  7.09547297e+03,  2.67802237e+04,\n",
       "       -1.91365218e+04, -2.50304510e+04, -2.53704345e+04,  1.08072029e+04,\n",
       "        2.67788110e+05])"
      ]
     },
     "execution_count": 164,
     "metadata": {},
     "output_type": "execute_result"
    }
   ],
   "source": [
    "Lr.coef_"
   ]
  },
  {
   "cell_type": "code",
   "execution_count": 165,
   "metadata": {},
   "outputs": [
    {
     "data": {
      "text/plain": [
       "0.5585546038273742"
      ]
     },
     "execution_count": 165,
     "metadata": {},
     "output_type": "execute_result"
    }
   ],
   "source": [
    "r2_score(y_test,y_pred)"
   ]
  },
  {
   "cell_type": "code",
   "execution_count": 166,
   "metadata": {},
   "outputs": [
    {
     "data": {
      "text/plain": [
       "8340988288.434896"
      ]
     },
     "execution_count": 166,
     "metadata": {},
     "output_type": "execute_result"
    }
   ],
   "source": [
    "mean_squared_error(y_test,y_pred)"
   ]
  },
  {
   "cell_type": "code",
   "execution_count": 167,
   "metadata": {},
   "outputs": [
    {
     "data": {
      "text/plain": [
       "91329.01120911633"
      ]
     },
     "execution_count": 167,
     "metadata": {},
     "output_type": "execute_result"
    }
   ],
   "source": [
    "np.sqrt(mean_squared_error(y_test,y_pred))"
   ]
  },
  {
   "cell_type": "code",
   "execution_count": 194,
   "metadata": {},
   "outputs": [
    {
     "data": {
      "text/plain": [
       "57997.69619994385"
      ]
     },
     "execution_count": 194,
     "metadata": {},
     "output_type": "execute_result"
    }
   ],
   "source": [
    "mean_absolute_error(y_test,y_pred)"
   ]
  },
  {
   "cell_type": "markdown",
   "metadata": {},
   "source": [
    "Building Model Using Regularization "
   ]
  },
  {
   "cell_type": "raw",
   "metadata": {},
   "source": [
    "Ridge"
   ]
  },
  {
   "cell_type": "code",
   "execution_count": 169,
   "metadata": {},
   "outputs": [],
   "source": [
    "from sklearn.linear_model import Ridge"
   ]
  },
  {
   "cell_type": "code",
   "execution_count": 171,
   "metadata": {},
   "outputs": [],
   "source": [
    "Ridge=Ridge(alpha=1)"
   ]
  },
  {
   "cell_type": "code",
   "execution_count": 172,
   "metadata": {},
   "outputs": [
    {
     "data": {
      "text/plain": [
       "Ridge(alpha=1)"
      ]
     },
     "execution_count": 172,
     "metadata": {},
     "output_type": "execute_result"
    }
   ],
   "source": [
    "Ridge.fit(x_train,y_train)"
   ]
  },
  {
   "cell_type": "code",
   "execution_count": 173,
   "metadata": {},
   "outputs": [],
   "source": [
    "yR_pred=Ridge.predict(x_test)"
   ]
  },
  {
   "cell_type": "code",
   "execution_count": 174,
   "metadata": {},
   "outputs": [
    {
     "data": {
      "text/plain": [
       "array([319726.44600135, 291139.70591277, 250439.8811893 , 315600.41790625,\n",
       "       -52004.04835781, 205174.63535129, 308801.42653398, 310295.95355087,\n",
       "       253018.81564141,   2279.35996507, 233683.72000881, 216444.07449535,\n",
       "       190497.77580004, 258740.6365881 , 242216.42863496, 307212.87475164,\n",
       "       338595.42077875, 276530.94365878, 285976.08442637, 285170.22850813,\n",
       "       214232.12069676, 273990.87964127, 282501.68622049, 280088.07650264,\n",
       "        32133.38619139, 299066.66529205,   9192.74071431, 264698.96711956,\n",
       "       232109.07094906, 275737.61041153, 299807.76134389, 288141.73459992,\n",
       "       299849.26786331, 294608.62001104, 233911.54249871,  18563.87893694,\n",
       "       213567.77576535, -67748.30604179, 247368.66691496, 212148.56403886,\n",
       "       322335.71553474, 412195.92969345, 187052.94897132, 306914.96527717,\n",
       "       246862.78035798, 305982.19319616,  13822.65586025,  10656.87321787,\n",
       "       271862.40584523, 318301.3568824 , 344678.46690927, 236446.90351935,\n",
       "       221780.18481657, 267571.68225882, 328696.10509904, 275456.52389631,\n",
       "       -20876.63354869, 278154.28063049, -19145.18031122, 298310.07961553,\n",
       "       246738.44806877, -21200.87013518, 332418.67757882, 242575.9406159 ,\n",
       "       108149.90908837, -40390.32340255,  52057.2310177 , 249294.8333416 ,\n",
       "       228672.03264752, 301068.42847851, 266524.06378306, 237717.84753306,\n",
       "       195608.70729631, 221130.40928787, 243418.69004736, 232460.95781209,\n",
       "       263959.14940797, 256018.930997  , 228168.15744454, 230859.04237578,\n",
       "       322218.52920713, 358912.71970449, 278796.7402302 , 281241.18456487,\n",
       "       327018.49193162, 258177.21081507, 286896.06353043, 245788.60232183,\n",
       "       298612.51356022, 351130.55462008, 320424.99146405, 231188.67630115,\n",
       "       284768.9842574 , 234733.34431381, 322328.17123801, 252218.41643981,\n",
       "       345247.27679526,  -1062.81474955, 361699.29780242,  12750.82322855,\n",
       "       262130.11216239, 293090.66617192, 252740.42771027, 295765.14145852,\n",
       "       290314.80670186, 243565.46284102, 274226.41117213,  18621.5506586 ,\n",
       "       256619.35972809, -13919.41117249, 351138.98886018,  26022.0653064 ,\n",
       "       -21217.80384427, 336024.10326342, 267057.65999394, -33427.64417766,\n",
       "       249870.30638547, 268900.39510136])"
      ]
     },
     "execution_count": 174,
     "metadata": {},
     "output_type": "execute_result"
    }
   ],
   "source": [
    "yR_pred"
   ]
  },
  {
   "cell_type": "code",
   "execution_count": 175,
   "metadata": {},
   "outputs": [
    {
     "data": {
      "text/plain": [
       "-202246.79174870902"
      ]
     },
     "execution_count": 175,
     "metadata": {},
     "output_type": "execute_result"
    }
   ],
   "source": [
    "Ridge.intercept_"
   ]
  },
  {
   "cell_type": "code",
   "execution_count": 176,
   "metadata": {},
   "outputs": [
    {
     "data": {
      "text/plain": [
       "array([ 4.17395348e+02, -2.68626349e+02,  1.37875553e+04,  4.33406173e+02,\n",
       "        1.76358942e+03,  6.63431115e+02,  1.82112653e+02,  1.09985495e+04,\n",
       "        1.81206328e+03, -5.10329610e+03,  5.95775758e+03,  8.44699675e+03,\n",
       "        1.74190030e+04,  9.10333568e+03,  1.09985495e+04,  3.57205035e+03,\n",
       "       -7.35459753e+03,  3.85184184e+04, -2.58965160e+04, -2.27047180e+04,\n",
       "       -1.41746426e+04,  2.23815564e+04, -1.00885389e+04, -1.36153197e+04,\n",
       "        3.89484062e+04, -1.88471881e+04,  5.70515932e+03,  1.87068207e+04,\n",
       "       -1.01664982e+04, -2.31389327e+04, -1.95493890e+04,  1.09985495e+04,\n",
       "        2.61053211e+05])"
      ]
     },
     "execution_count": 176,
     "metadata": {},
     "output_type": "execute_result"
    }
   ],
   "source": [
    "Ridge.coef_"
   ]
  },
  {
   "cell_type": "code",
   "execution_count": 177,
   "metadata": {},
   "outputs": [
    {
     "data": {
      "text/plain": [
       "0.5613186398593538"
      ]
     },
     "execution_count": 177,
     "metadata": {},
     "output_type": "execute_result"
    }
   ],
   "source": [
    "r2_score(y_test,yR_pred)"
   ]
  },
  {
   "cell_type": "code",
   "execution_count": 178,
   "metadata": {},
   "outputs": [
    {
     "data": {
      "text/plain": [
       "8288762594.449997"
      ]
     },
     "execution_count": 178,
     "metadata": {},
     "output_type": "execute_result"
    }
   ],
   "source": [
    "mean_squared_error(y_test,yR_pred)"
   ]
  },
  {
   "cell_type": "code",
   "execution_count": 179,
   "metadata": {},
   "outputs": [
    {
     "data": {
      "text/plain": [
       "91042.64162715182"
      ]
     },
     "execution_count": 179,
     "metadata": {},
     "output_type": "execute_result"
    }
   ],
   "source": [
    "np.sqrt(mean_squared_error(y_test,yR_pred))"
   ]
  },
  {
   "cell_type": "code",
   "execution_count": 193,
   "metadata": {},
   "outputs": [
    {
     "data": {
      "text/plain": [
       "57444.961757018646"
      ]
     },
     "execution_count": 193,
     "metadata": {},
     "output_type": "execute_result"
    }
   ],
   "source": [
    "mean_absolute_error(y_test,yR_pred)"
   ]
  },
  {
   "cell_type": "code",
   "execution_count": 181,
   "metadata": {},
   "outputs": [
    {
     "data": {
      "text/plain": [
       "<AxesSubplot:>"
      ]
     },
     "execution_count": 181,
     "metadata": {},
     "output_type": "execute_result"
    },
    {
     "data": {
      "image/png": "[encoded data removed]",
      "text/plain": [
       "<Figure size 720x720 with 1 Axes>"
      ]
     },
     "metadata": {
      "needs_background": "light"
     },
     "output_type": "display_data"
    }
   ],
   "source": [
    "plt.figure(figsize=(10,10))\n",
    "pd.Series(Ridge.coef_,x_train.columns).plot(kind='bar')"
   ]
  },
  {
   "cell_type": "raw",
   "metadata": {},
   "source": [
    "Lasso"
   ]
  },
  {
   "cell_type": "code",
   "execution_count": 182,
   "metadata": {},
   "outputs": [],
   "source": [
    "from sklearn.linear_model import Lasso"
   ]
  },
  {
   "cell_type": "code",
   "execution_count": 183,
   "metadata": {},
   "outputs": [],
   "source": [
    "Lasso = Lasso(alpha=0.5)"
   ]
  },
  {
   "cell_type": "code",
   "execution_count": 184,
   "metadata": {},
   "outputs": [
    {
     "data": {
      "text/plain": [
       "Lasso(alpha=0.5)"
      ]
     },
     "execution_count": 184,
     "metadata": {},
     "output_type": "execute_result"
    }
   ],
   "source": [
    "Lasso.fit(x_train,y_train)\n"
   ]
  },
  {
   "cell_type": "code",
   "execution_count": 185,
   "metadata": {},
   "outputs": [],
   "source": [
    "yL_pred=Lasso.predict(x_test)"
   ]
  },
  {
   "cell_type": "code",
   "execution_count": 186,
   "metadata": {},
   "outputs": [
    {
     "data": {
      "text/plain": [
       "array([319155.10995185, 292759.3811981 , 251492.09349133, 318015.00607588,\n",
       "       -57736.81041168, 206368.73634343, 309883.83589996, 311484.75968743,\n",
       "       256503.9164923 ,  -2088.6674305 , 234771.22360454, 217249.14010943,\n",
       "       186909.30172587, 259029.58882503, 242295.33350227, 307897.94126445,\n",
       "       337633.88133956, 277256.5986168 , 288071.72683664, 286504.90146914,\n",
       "       216017.19150181, 272241.02611405, 282380.63336014, 270087.75592061,\n",
       "        27959.25049503, 301504.03183549,   1143.98573357, 266681.98465504,\n",
       "       224090.91088754, 276974.47375645, 300899.55829454, 291966.26361039,\n",
       "       297398.06648326, 294469.44617709, 237881.25927009,  15537.61466102,\n",
       "       216753.43371502, -73695.22205291, 248017.23960377, 214295.83433494,\n",
       "       325423.71321453, 414497.44950405, 188409.25530713, 309373.58120092,\n",
       "       246220.08094575, 308326.89944445,   8714.5516546 ,   7026.95412412,\n",
       "       272321.77851084, 323141.46539865, 344087.30114165, 233163.41361736,\n",
       "       219737.94953555, 269546.73555317, 330881.54326823, 277672.44672501,\n",
       "       -34091.7516699 , 276648.71962516, -22462.15835891, 299267.05805705,\n",
       "       249829.09859285, -17280.39570948, 338107.13148924, 241584.28563382,\n",
       "       105261.52631234, -44701.07788749,  43277.47663588, 253749.62820345,\n",
       "       229231.52611326, 303510.61991517, 267818.94930197, 238522.48415417,\n",
       "       195696.06882881, 222052.13915612, 244843.77759762, 232187.85799936,\n",
       "       262710.45936917, 259555.91802556, 229917.71598461, 223746.79910838,\n",
       "       323527.79017868, 363075.14591801, 281940.75400223, 281060.07244396,\n",
       "       326410.82489915, 263619.59907664, 284721.68612622, 247023.48613206,\n",
       "       300468.31818207, 353009.08940477, 321359.95764479, 230585.85857568,\n",
       "       287670.95296881, 236080.31872603, 326264.44939953, 249341.76619072,\n",
       "       345162.80019561,  -9466.30701658, 365386.65740094,   7294.15913638,\n",
       "       267192.07693596, 293690.75209741, 252374.44195622, 295539.62025589,\n",
       "       291347.9432392 , 245478.6276796 , 275587.30676376,  14996.83084746,\n",
       "       255429.75097999, -22352.36307325, 352104.55093245,  23598.01584171,\n",
       "       -26125.55000059, 339629.53458528, 267974.94867518, -37625.61984822,\n",
       "       251878.64997511, 273116.63923119])"
      ]
     },
     "execution_count": 186,
     "metadata": {},
     "output_type": "execute_result"
    }
   ],
   "source": [
    "yL_pred"
   ]
  },
  {
   "cell_type": "code",
   "execution_count": 187,
   "metadata": {},
   "outputs": [
    {
     "data": {
      "text/plain": [
       "-199497.03099740992"
      ]
     },
     "execution_count": 187,
     "metadata": {},
     "output_type": "execute_result"
    }
   ],
   "source": [
    "Lasso.intercept_"
   ]
  },
  {
   "cell_type": "code",
   "execution_count": 188,
   "metadata": {},
   "outputs": [
    {
     "data": {
      "text/plain": [
       "array([ 3.52180994e+02, -2.62780622e+02,  1.35754924e+04,  4.11116031e+02,\n",
       "        1.75584359e+03,  7.21369795e+02,  9.95688125e+01,  3.24181078e+04,\n",
       "        3.36771771e+02, -5.73006957e+03,  7.29984280e+03,  9.37889850e+03,\n",
       "        2.19477641e+04,  1.34873722e+04,  1.31757326e-03, -2.49496479e+03,\n",
       "       -1.18128481e+04,  3.48616564e+04, -3.23771410e+04, -3.73839918e+04,\n",
       "       -2.15486046e+04,  4.56000601e+04, -2.30272419e+04, -1.85316804e+04,\n",
       "        4.35620100e+04, -1.62535421e+04,  7.09217188e+03,  2.67384579e+04,\n",
       "       -1.89989734e+04, -2.50173213e+04, -2.53376753e+04,  9.05822076e-03,\n",
       "        2.67781672e+05])"
      ]
     },
     "execution_count": 188,
     "metadata": {},
     "output_type": "execute_result"
    }
   ],
   "source": [
    "Lasso.coef_"
   ]
  },
  {
   "cell_type": "code",
   "execution_count": 189,
   "metadata": {},
   "outputs": [
    {
     "data": {
      "text/plain": [
       "0.5585612828264269"
      ]
     },
     "execution_count": 189,
     "metadata": {},
     "output_type": "execute_result"
    }
   ],
   "source": [
    "r2_score(y_test,yL_pred)"
   ]
  },
  {
   "cell_type": "code",
   "execution_count": 190,
   "metadata": {},
   "outputs": [
    {
     "data": {
      "text/plain": [
       "8340862090.6007805"
      ]
     },
     "execution_count": 190,
     "metadata": {},
     "output_type": "execute_result"
    }
   ],
   "source": [
    "mean_squared_error(y_test,yL_pred)"
   ]
  },
  {
   "cell_type": "code",
   "execution_count": 191,
   "metadata": {},
   "outputs": [
    {
     "data": {
      "text/plain": [
       "91328.32030975266"
      ]
     },
     "execution_count": 191,
     "metadata": {},
     "output_type": "execute_result"
    }
   ],
   "source": [
    "np.sqrt(mean_squared_error(y_test,yL_pred))"
   ]
  },
  {
   "cell_type": "code",
   "execution_count": 192,
   "metadata": {},
   "outputs": [
    {
     "data": {
      "text/plain": [
       "57994.162366521596"
      ]
     },
     "execution_count": 192,
     "metadata": {},
     "output_type": "execute_result"
    }
   ],
   "source": [
    "mean_absolute_error(y_test,yL_pred)"
   ]
  },
  {
   "cell_type": "markdown",
   "metadata": {},
   "source": [
    "Multicollinearity"
   ]
  },
  {
   "cell_type": "code",
   "execution_count": 199,
   "metadata": {},
   "outputs": [
    {
     "data": {
      "text/html": [
       "<div>\n",
       "<style scoped>\n",
       "    .dataframe tbody tr th:only-of-type {\n",
       "        vertical-align: middle;\n",
       "    }\n",
       "\n",
       "    .dataframe tbody tr th {\n",
       "        vertical-align: top;\n",
       "    }\n",
       "\n",
       "    .dataframe thead th {\n",
       "        text-align: right;\n",
       "    }\n",
       "</style>\n",
       "<table border=\"1\" class=\"dataframe\">\n",
       "  <thead>\n",
       "    <tr style=\"text-align: right;\">\n",
       "      <th></th>\n",
       "      <th>Percent_SSC</th>\n",
       "      <th>Percent_HSC</th>\n",
       "      <th>Experience_Yrs</th>\n",
       "      <th>Percentile_ET</th>\n",
       "      <th>Percent_MBA</th>\n",
       "      <th>Marks_Communication</th>\n",
       "      <th>Marks_Projectwork</th>\n",
       "      <th>Salary</th>\n",
       "      <th>Gender_M</th>\n",
       "      <th>Board_SSC_ICSE</th>\n",
       "      <th>...</th>\n",
       "      <th>Entrance_Test_GCET</th>\n",
       "      <th>Entrance_Test_K-MAT</th>\n",
       "      <th>Entrance_Test_MAT</th>\n",
       "      <th>Entrance_Test_No test</th>\n",
       "      <th>Entrance_Test_PGCET</th>\n",
       "      <th>Entrance_Test_XAT</th>\n",
       "      <th>Specialization_MBA_Marketing &amp; HR</th>\n",
       "      <th>Specialization_MBA_Marketing &amp; IB</th>\n",
       "      <th>Marks_BOCA_M</th>\n",
       "      <th>Placement_Placed</th>\n",
       "    </tr>\n",
       "  </thead>\n",
       "  <tbody>\n",
       "    <tr>\n",
       "      <th>0</th>\n",
       "      <td>62.00</td>\n",
       "      <td>88.00</td>\n",
       "      <td>0</td>\n",
       "      <td>55.00</td>\n",
       "      <td>58.80</td>\n",
       "      <td>50</td>\n",
       "      <td>65</td>\n",
       "      <td>270000</td>\n",
       "      <td>1</td>\n",
       "      <td>0</td>\n",
       "      <td>...</td>\n",
       "      <td>0</td>\n",
       "      <td>0</td>\n",
       "      <td>1</td>\n",
       "      <td>0</td>\n",
       "      <td>0</td>\n",
       "      <td>0</td>\n",
       "      <td>1</td>\n",
       "      <td>0</td>\n",
       "      <td>1</td>\n",
       "      <td>1</td>\n",
       "    </tr>\n",
       "    <tr>\n",
       "      <th>1</th>\n",
       "      <td>76.33</td>\n",
       "      <td>75.33</td>\n",
       "      <td>1</td>\n",
       "      <td>86.50</td>\n",
       "      <td>66.28</td>\n",
       "      <td>69</td>\n",
       "      <td>70</td>\n",
       "      <td>200000</td>\n",
       "      <td>1</td>\n",
       "      <td>1</td>\n",
       "      <td>...</td>\n",
       "      <td>0</td>\n",
       "      <td>0</td>\n",
       "      <td>1</td>\n",
       "      <td>0</td>\n",
       "      <td>0</td>\n",
       "      <td>0</td>\n",
       "      <td>0</td>\n",
       "      <td>0</td>\n",
       "      <td>1</td>\n",
       "      <td>1</td>\n",
       "    </tr>\n",
       "    <tr>\n",
       "      <th>2</th>\n",
       "      <td>72.00</td>\n",
       "      <td>78.00</td>\n",
       "      <td>0</td>\n",
       "      <td>0.00</td>\n",
       "      <td>52.91</td>\n",
       "      <td>50</td>\n",
       "      <td>61</td>\n",
       "      <td>240000</td>\n",
       "      <td>1</td>\n",
       "      <td>0</td>\n",
       "      <td>...</td>\n",
       "      <td>0</td>\n",
       "      <td>0</td>\n",
       "      <td>0</td>\n",
       "      <td>1</td>\n",
       "      <td>0</td>\n",
       "      <td>0</td>\n",
       "      <td>0</td>\n",
       "      <td>0</td>\n",
       "      <td>1</td>\n",
       "      <td>1</td>\n",
       "    </tr>\n",
       "    <tr>\n",
       "      <th>3</th>\n",
       "      <td>60.00</td>\n",
       "      <td>63.00</td>\n",
       "      <td>0</td>\n",
       "      <td>75.00</td>\n",
       "      <td>57.80</td>\n",
       "      <td>54</td>\n",
       "      <td>66</td>\n",
       "      <td>250000</td>\n",
       "      <td>1</td>\n",
       "      <td>0</td>\n",
       "      <td>...</td>\n",
       "      <td>0</td>\n",
       "      <td>0</td>\n",
       "      <td>1</td>\n",
       "      <td>0</td>\n",
       "      <td>0</td>\n",
       "      <td>0</td>\n",
       "      <td>0</td>\n",
       "      <td>0</td>\n",
       "      <td>1</td>\n",
       "      <td>1</td>\n",
       "    </tr>\n",
       "    <tr>\n",
       "      <th>4</th>\n",
       "      <td>61.00</td>\n",
       "      <td>55.00</td>\n",
       "      <td>1</td>\n",
       "      <td>66.00</td>\n",
       "      <td>59.43</td>\n",
       "      <td>52</td>\n",
       "      <td>65</td>\n",
       "      <td>180000</td>\n",
       "      <td>1</td>\n",
       "      <td>0</td>\n",
       "      <td>...</td>\n",
       "      <td>0</td>\n",
       "      <td>0</td>\n",
       "      <td>1</td>\n",
       "      <td>0</td>\n",
       "      <td>0</td>\n",
       "      <td>0</td>\n",
       "      <td>1</td>\n",
       "      <td>0</td>\n",
       "      <td>1</td>\n",
       "      <td>1</td>\n",
       "    </tr>\n",
       "    <tr>\n",
       "      <th>...</th>\n",
       "      <td>...</td>\n",
       "      <td>...</td>\n",
       "      <td>...</td>\n",
       "      <td>...</td>\n",
       "      <td>...</td>\n",
       "      <td>...</td>\n",
       "      <td>...</td>\n",
       "      <td>...</td>\n",
       "      <td>...</td>\n",
       "      <td>...</td>\n",
       "      <td>...</td>\n",
       "      <td>...</td>\n",
       "      <td>...</td>\n",
       "      <td>...</td>\n",
       "      <td>...</td>\n",
       "      <td>...</td>\n",
       "      <td>...</td>\n",
       "      <td>...</td>\n",
       "      <td>...</td>\n",
       "      <td>...</td>\n",
       "      <td>...</td>\n",
       "    </tr>\n",
       "    <tr>\n",
       "      <th>386</th>\n",
       "      <td>62.60</td>\n",
       "      <td>50.60</td>\n",
       "      <td>0</td>\n",
       "      <td>34.53</td>\n",
       "      <td>58.63</td>\n",
       "      <td>62</td>\n",
       "      <td>57</td>\n",
       "      <td>162000</td>\n",
       "      <td>1</td>\n",
       "      <td>0</td>\n",
       "      <td>...</td>\n",
       "      <td>0</td>\n",
       "      <td>0</td>\n",
       "      <td>1</td>\n",
       "      <td>0</td>\n",
       "      <td>0</td>\n",
       "      <td>0</td>\n",
       "      <td>1</td>\n",
       "      <td>0</td>\n",
       "      <td>1</td>\n",
       "      <td>1</td>\n",
       "    </tr>\n",
       "    <tr>\n",
       "      <th>387</th>\n",
       "      <td>77.00</td>\n",
       "      <td>49.50</td>\n",
       "      <td>0</td>\n",
       "      <td>50.53</td>\n",
       "      <td>59.50</td>\n",
       "      <td>70</td>\n",
       "      <td>59</td>\n",
       "      <td>450000</td>\n",
       "      <td>1</td>\n",
       "      <td>0</td>\n",
       "      <td>...</td>\n",
       "      <td>0</td>\n",
       "      <td>0</td>\n",
       "      <td>1</td>\n",
       "      <td>0</td>\n",
       "      <td>0</td>\n",
       "      <td>0</td>\n",
       "      <td>0</td>\n",
       "      <td>0</td>\n",
       "      <td>1</td>\n",
       "      <td>1</td>\n",
       "    </tr>\n",
       "    <tr>\n",
       "      <th>388</th>\n",
       "      <td>66.40</td>\n",
       "      <td>72.00</td>\n",
       "      <td>0</td>\n",
       "      <td>60.00</td>\n",
       "      <td>61.63</td>\n",
       "      <td>73</td>\n",
       "      <td>73</td>\n",
       "      <td>240000</td>\n",
       "      <td>1</td>\n",
       "      <td>0</td>\n",
       "      <td>...</td>\n",
       "      <td>0</td>\n",
       "      <td>0</td>\n",
       "      <td>1</td>\n",
       "      <td>0</td>\n",
       "      <td>0</td>\n",
       "      <td>0</td>\n",
       "      <td>0</td>\n",
       "      <td>1</td>\n",
       "      <td>1</td>\n",
       "      <td>1</td>\n",
       "    </tr>\n",
       "    <tr>\n",
       "      <th>389</th>\n",
       "      <td>70.00</td>\n",
       "      <td>77.00</td>\n",
       "      <td>0</td>\n",
       "      <td>77.00</td>\n",
       "      <td>70.17</td>\n",
       "      <td>67</td>\n",
       "      <td>77</td>\n",
       "      <td>300000</td>\n",
       "      <td>0</td>\n",
       "      <td>1</td>\n",
       "      <td>...</td>\n",
       "      <td>0</td>\n",
       "      <td>0</td>\n",
       "      <td>1</td>\n",
       "      <td>0</td>\n",
       "      <td>0</td>\n",
       "      <td>0</td>\n",
       "      <td>0</td>\n",
       "      <td>0</td>\n",
       "      <td>0</td>\n",
       "      <td>1</td>\n",
       "    </tr>\n",
       "    <tr>\n",
       "      <th>390</th>\n",
       "      <td>74.00</td>\n",
       "      <td>85.00</td>\n",
       "      <td>0</td>\n",
       "      <td>58.89</td>\n",
       "      <td>60.36</td>\n",
       "      <td>64</td>\n",
       "      <td>67</td>\n",
       "      <td>0</td>\n",
       "      <td>1</td>\n",
       "      <td>0</td>\n",
       "      <td>...</td>\n",
       "      <td>0</td>\n",
       "      <td>0</td>\n",
       "      <td>1</td>\n",
       "      <td>0</td>\n",
       "      <td>0</td>\n",
       "      <td>0</td>\n",
       "      <td>0</td>\n",
       "      <td>0</td>\n",
       "      <td>1</td>\n",
       "      <td>0</td>\n",
       "    </tr>\n",
       "  </tbody>\n",
       "</table>\n",
       "<p>391 rows × 34 columns</p>\n",
       "</div>"
      ],
      "text/plain": [
       "     Percent_SSC  Percent_HSC  Experience_Yrs  Percentile_ET  Percent_MBA  \\\n",
       "0          62.00        88.00               0          55.00        58.80   \n",
       "1          76.33        75.33               1          86.50        66.28   \n",
       "2          72.00        78.00               0           0.00        52.91   \n",
       "3          60.00        63.00               0          75.00        57.80   \n",
       "4          61.00        55.00               1          66.00        59.43   \n",
       "..           ...          ...             ...            ...          ...   \n",
       "386        62.60        50.60               0          34.53        58.63   \n",
       "387        77.00        49.50               0          50.53        59.50   \n",
       "388        66.40        72.00               0          60.00        61.63   \n",
       "389        70.00        77.00               0          77.00        70.17   \n",
       "390        74.00        85.00               0          58.89        60.36   \n",
       "\n",
       "     Marks_Communication  Marks_Projectwork  Salary  Gender_M  Board_SSC_ICSE  \\\n",
       "0                     50                 65  270000         1               0   \n",
       "1                     69                 70  200000         1               1   \n",
       "2                     50                 61  240000         1               0   \n",
       "3                     54                 66  250000         1               0   \n",
       "4                     52                 65  180000         1               0   \n",
       "..                   ...                ...     ...       ...             ...   \n",
       "386                   62                 57  162000         1               0   \n",
       "387                   70                 59  450000         1               0   \n",
       "388                   73                 73  240000         1               0   \n",
       "389                   67                 77  300000         0               1   \n",
       "390                   64                 67       0         1               0   \n",
       "\n",
       "     ...  Entrance_Test_GCET  Entrance_Test_K-MAT  Entrance_Test_MAT  \\\n",
       "0    ...                   0                    0                  1   \n",
       "1    ...                   0                    0                  1   \n",
       "2    ...                   0                    0                  0   \n",
       "3    ...                   0                    0                  1   \n",
       "4    ...                   0                    0                  1   \n",
       "..   ...                 ...                  ...                ...   \n",
       "386  ...                   0                    0                  1   \n",
       "387  ...                   0                    0                  1   \n",
       "388  ...                   0                    0                  1   \n",
       "389  ...                   0                    0                  1   \n",
       "390  ...                   0                    0                  1   \n",
       "\n",
       "     Entrance_Test_No test  Entrance_Test_PGCET  Entrance_Test_XAT  \\\n",
       "0                        0                    0                  0   \n",
       "1                        0                    0                  0   \n",
       "2                        1                    0                  0   \n",
       "3                        0                    0                  0   \n",
       "4                        0                    0                  0   \n",
       "..                     ...                  ...                ...   \n",
       "386                      0                    0                  0   \n",
       "387                      0                    0                  0   \n",
       "388                      0                    0                  0   \n",
       "389                      0                    0                  0   \n",
       "390                      0                    0                  0   \n",
       "\n",
       "     Specialization_MBA_Marketing & HR  Specialization_MBA_Marketing & IB  \\\n",
       "0                                    1                                  0   \n",
       "1                                    0                                  0   \n",
       "2                                    0                                  0   \n",
       "3                                    0                                  0   \n",
       "4                                    1                                  0   \n",
       "..                                 ...                                ...   \n",
       "386                                  1                                  0   \n",
       "387                                  0                                  0   \n",
       "388                                  0                                  1   \n",
       "389                                  0                                  0   \n",
       "390                                  0                                  0   \n",
       "\n",
       "     Marks_BOCA_M  Placement_Placed  \n",
       "0               1                 1  \n",
       "1               1                 1  \n",
       "2               1                 1  \n",
       "3               1                 1  \n",
       "4               1                 1  \n",
       "..            ...               ...  \n",
       "386             1                 1  \n",
       "387             1                 1  \n",
       "388             1                 1  \n",
       "389             0                 1  \n",
       "390             1                 0  \n",
       "\n",
       "[391 rows x 34 columns]"
      ]
     },
     "execution_count": 199,
     "metadata": {},
     "output_type": "execute_result"
    }
   ],
   "source": [
    "from statsmodels.stats.outliers_influence import variance_inflation_factor as vif\n",
    "final_data\n"
   ]
  },
  {
   "cell_type": "code",
   "execution_count": 201,
   "metadata": {},
   "outputs": [],
   "source": [
    "vif_data= pd.DataFrame()"
   ]
  },
  {
   "cell_type": "code",
   "execution_count": 203,
   "metadata": {},
   "outputs": [],
   "source": [
    "vif_data['Features']=final_data.columns"
   ]
  },
  {
   "cell_type": "code",
   "execution_count": 204,
   "metadata": {},
   "outputs": [
    {
     "data": {
      "text/html": [
       "<div>\n",
       "<style scoped>\n",
       "    .dataframe tbody tr th:only-of-type {\n",
       "        vertical-align: middle;\n",
       "    }\n",
       "\n",
       "    .dataframe tbody tr th {\n",
       "        vertical-align: top;\n",
       "    }\n",
       "\n",
       "    .dataframe thead th {\n",
       "        text-align: right;\n",
       "    }\n",
       "</style>\n",
       "<table border=\"1\" class=\"dataframe\">\n",
       "  <thead>\n",
       "    <tr style=\"text-align: right;\">\n",
       "      <th></th>\n",
       "      <th>Features</th>\n",
       "    </tr>\n",
       "  </thead>\n",
       "  <tbody>\n",
       "    <tr>\n",
       "      <th>0</th>\n",
       "      <td>Percent_SSC</td>\n",
       "    </tr>\n",
       "    <tr>\n",
       "      <th>1</th>\n",
       "      <td>Percent_HSC</td>\n",
       "    </tr>\n",
       "    <tr>\n",
       "      <th>2</th>\n",
       "      <td>Experience_Yrs</td>\n",
       "    </tr>\n",
       "    <tr>\n",
       "      <th>3</th>\n",
       "      <td>Percentile_ET</td>\n",
       "    </tr>\n",
       "    <tr>\n",
       "      <th>4</th>\n",
       "      <td>Percent_MBA</td>\n",
       "    </tr>\n",
       "    <tr>\n",
       "      <th>5</th>\n",
       "      <td>Marks_Communication</td>\n",
       "    </tr>\n",
       "    <tr>\n",
       "      <th>6</th>\n",
       "      <td>Marks_Projectwork</td>\n",
       "    </tr>\n",
       "    <tr>\n",
       "      <th>7</th>\n",
       "      <td>Salary</td>\n",
       "    </tr>\n",
       "    <tr>\n",
       "      <th>8</th>\n",
       "      <td>Gender_M</td>\n",
       "    </tr>\n",
       "    <tr>\n",
       "      <th>9</th>\n",
       "      <td>Board_SSC_ICSE</td>\n",
       "    </tr>\n",
       "    <tr>\n",
       "      <th>10</th>\n",
       "      <td>Board_SSC_Others</td>\n",
       "    </tr>\n",
       "    <tr>\n",
       "      <th>11</th>\n",
       "      <td>Board_HSC_ISC</td>\n",
       "    </tr>\n",
       "    <tr>\n",
       "      <th>12</th>\n",
       "      <td>Board_HSC_Others</td>\n",
       "    </tr>\n",
       "    <tr>\n",
       "      <th>13</th>\n",
       "      <td>Stream_HSC_Commerce</td>\n",
       "    </tr>\n",
       "    <tr>\n",
       "      <th>14</th>\n",
       "      <td>Stream_HSC_Science</td>\n",
       "    </tr>\n",
       "    <tr>\n",
       "      <th>15</th>\n",
       "      <td>Percent_Degree_M</td>\n",
       "    </tr>\n",
       "    <tr>\n",
       "      <th>16</th>\n",
       "      <td>Course_Degree_Commerce</td>\n",
       "    </tr>\n",
       "    <tr>\n",
       "      <th>17</th>\n",
       "      <td>Course_Degree_Computer Applications</td>\n",
       "    </tr>\n",
       "    <tr>\n",
       "      <th>18</th>\n",
       "      <td>Course_Degree_Engineering</td>\n",
       "    </tr>\n",
       "    <tr>\n",
       "      <th>19</th>\n",
       "      <td>Course_Degree_Management</td>\n",
       "    </tr>\n",
       "    <tr>\n",
       "      <th>20</th>\n",
       "      <td>Course_Degree_Others</td>\n",
       "    </tr>\n",
       "    <tr>\n",
       "      <th>21</th>\n",
       "      <td>Course_Degree_Science</td>\n",
       "    </tr>\n",
       "    <tr>\n",
       "      <th>22</th>\n",
       "      <td>Entrance_Test_G-MAT</td>\n",
       "    </tr>\n",
       "    <tr>\n",
       "      <th>23</th>\n",
       "      <td>Entrance_Test_G-SAT</td>\n",
       "    </tr>\n",
       "    <tr>\n",
       "      <th>24</th>\n",
       "      <td>Entrance_Test_GCET</td>\n",
       "    </tr>\n",
       "    <tr>\n",
       "      <th>25</th>\n",
       "      <td>Entrance_Test_K-MAT</td>\n",
       "    </tr>\n",
       "    <tr>\n",
       "      <th>26</th>\n",
       "      <td>Entrance_Test_MAT</td>\n",
       "    </tr>\n",
       "    <tr>\n",
       "      <th>27</th>\n",
       "      <td>Entrance_Test_No test</td>\n",
       "    </tr>\n",
       "    <tr>\n",
       "      <th>28</th>\n",
       "      <td>Entrance_Test_PGCET</td>\n",
       "    </tr>\n",
       "    <tr>\n",
       "      <th>29</th>\n",
       "      <td>Entrance_Test_XAT</td>\n",
       "    </tr>\n",
       "    <tr>\n",
       "      <th>30</th>\n",
       "      <td>Specialization_MBA_Marketing &amp; HR</td>\n",
       "    </tr>\n",
       "    <tr>\n",
       "      <th>31</th>\n",
       "      <td>Specialization_MBA_Marketing &amp; IB</td>\n",
       "    </tr>\n",
       "    <tr>\n",
       "      <th>32</th>\n",
       "      <td>Marks_BOCA_M</td>\n",
       "    </tr>\n",
       "    <tr>\n",
       "      <th>33</th>\n",
       "      <td>Placement_Placed</td>\n",
       "    </tr>\n",
       "  </tbody>\n",
       "</table>\n",
       "</div>"
      ],
      "text/plain": [
       "                               Features\n",
       "0                           Percent_SSC\n",
       "1                           Percent_HSC\n",
       "2                        Experience_Yrs\n",
       "3                         Percentile_ET\n",
       "4                           Percent_MBA\n",
       "5                   Marks_Communication\n",
       "6                     Marks_Projectwork\n",
       "7                                Salary\n",
       "8                              Gender_M\n",
       "9                        Board_SSC_ICSE\n",
       "10                     Board_SSC_Others\n",
       "11                        Board_HSC_ISC\n",
       "12                     Board_HSC_Others\n",
       "13                  Stream_HSC_Commerce\n",
       "14                   Stream_HSC_Science\n",
       "15                     Percent_Degree_M\n",
       "16               Course_Degree_Commerce\n",
       "17  Course_Degree_Computer Applications\n",
       "18            Course_Degree_Engineering\n",
       "19             Course_Degree_Management\n",
       "20                 Course_Degree_Others\n",
       "21                Course_Degree_Science\n",
       "22                  Entrance_Test_G-MAT\n",
       "23                  Entrance_Test_G-SAT\n",
       "24                   Entrance_Test_GCET\n",
       "25                  Entrance_Test_K-MAT\n",
       "26                    Entrance_Test_MAT\n",
       "27                Entrance_Test_No test\n",
       "28                  Entrance_Test_PGCET\n",
       "29                    Entrance_Test_XAT\n",
       "30    Specialization_MBA_Marketing & HR\n",
       "31    Specialization_MBA_Marketing & IB\n",
       "32                         Marks_BOCA_M\n",
       "33                     Placement_Placed"
      ]
     },
     "execution_count": 204,
     "metadata": {},
     "output_type": "execute_result"
    }
   ],
   "source": [
    "vif_data"
   ]
  },
  {
   "cell_type": "code",
   "execution_count": 206,
   "metadata": {},
   "outputs": [],
   "source": [
    "vif_data['VIF']=[vif(final_data.values,i) for i in range(len(final_data.columns))]"
   ]
  },
  {
   "cell_type": "code",
   "execution_count": 207,
   "metadata": {},
   "outputs": [
    {
     "data": {
      "text/html": [
       "<div>\n",
       "<style scoped>\n",
       "    .dataframe tbody tr th:only-of-type {\n",
       "        vertical-align: middle;\n",
       "    }\n",
       "\n",
       "    .dataframe tbody tr th {\n",
       "        vertical-align: top;\n",
       "    }\n",
       "\n",
       "    .dataframe thead th {\n",
       "        text-align: right;\n",
       "    }\n",
       "</style>\n",
       "<table border=\"1\" class=\"dataframe\">\n",
       "  <thead>\n",
       "    <tr style=\"text-align: right;\">\n",
       "      <th></th>\n",
       "      <th>Features</th>\n",
       "      <th>VIF</th>\n",
       "    </tr>\n",
       "  </thead>\n",
       "  <tbody>\n",
       "    <tr>\n",
       "      <th>0</th>\n",
       "      <td>Percent_SSC</td>\n",
       "      <td>69.141148</td>\n",
       "    </tr>\n",
       "    <tr>\n",
       "      <th>1</th>\n",
       "      <td>Percent_HSC</td>\n",
       "      <td>56.321922</td>\n",
       "    </tr>\n",
       "    <tr>\n",
       "      <th>2</th>\n",
       "      <td>Experience_Yrs</td>\n",
       "      <td>1.802230</td>\n",
       "    </tr>\n",
       "    <tr>\n",
       "      <th>3</th>\n",
       "      <td>Percentile_ET</td>\n",
       "      <td>18.577228</td>\n",
       "    </tr>\n",
       "    <tr>\n",
       "      <th>4</th>\n",
       "      <td>Percent_MBA</td>\n",
       "      <td>260.106856</td>\n",
       "    </tr>\n",
       "    <tr>\n",
       "      <th>5</th>\n",
       "      <td>Marks_Communication</td>\n",
       "      <td>110.063435</td>\n",
       "    </tr>\n",
       "    <tr>\n",
       "      <th>6</th>\n",
       "      <td>Marks_Projectwork</td>\n",
       "      <td>104.609717</td>\n",
       "    </tr>\n",
       "    <tr>\n",
       "      <th>7</th>\n",
       "      <td>Salary</td>\n",
       "      <td>11.787809</td>\n",
       "    </tr>\n",
       "    <tr>\n",
       "      <th>8</th>\n",
       "      <td>Gender_M</td>\n",
       "      <td>inf</td>\n",
       "    </tr>\n",
       "    <tr>\n",
       "      <th>9</th>\n",
       "      <td>Board_SSC_ICSE</td>\n",
       "      <td>3.182146</td>\n",
       "    </tr>\n",
       "    <tr>\n",
       "      <th>10</th>\n",
       "      <td>Board_SSC_Others</td>\n",
       "      <td>6.020772</td>\n",
       "    </tr>\n",
       "    <tr>\n",
       "      <th>11</th>\n",
       "      <td>Board_HSC_ISC</td>\n",
       "      <td>2.648726</td>\n",
       "    </tr>\n",
       "    <tr>\n",
       "      <th>12</th>\n",
       "      <td>Board_HSC_Others</td>\n",
       "      <td>7.519513</td>\n",
       "    </tr>\n",
       "    <tr>\n",
       "      <th>13</th>\n",
       "      <td>Stream_HSC_Commerce</td>\n",
       "      <td>19.251134</td>\n",
       "    </tr>\n",
       "    <tr>\n",
       "      <th>14</th>\n",
       "      <td>Stream_HSC_Science</td>\n",
       "      <td>14.566488</td>\n",
       "    </tr>\n",
       "    <tr>\n",
       "      <th>15</th>\n",
       "      <td>Percent_Degree_M</td>\n",
       "      <td>inf</td>\n",
       "    </tr>\n",
       "    <tr>\n",
       "      <th>16</th>\n",
       "      <td>Course_Degree_Commerce</td>\n",
       "      <td>14.025975</td>\n",
       "    </tr>\n",
       "    <tr>\n",
       "      <th>17</th>\n",
       "      <td>Course_Degree_Computer Applications</td>\n",
       "      <td>4.331165</td>\n",
       "    </tr>\n",
       "    <tr>\n",
       "      <th>18</th>\n",
       "      <td>Course_Degree_Engineering</td>\n",
       "      <td>5.057627</td>\n",
       "    </tr>\n",
       "    <tr>\n",
       "      <th>19</th>\n",
       "      <td>Course_Degree_Management</td>\n",
       "      <td>17.345340</td>\n",
       "    </tr>\n",
       "    <tr>\n",
       "      <th>20</th>\n",
       "      <td>Course_Degree_Others</td>\n",
       "      <td>1.516190</td>\n",
       "    </tr>\n",
       "    <tr>\n",
       "      <th>21</th>\n",
       "      <td>Course_Degree_Science</td>\n",
       "      <td>3.560618</td>\n",
       "    </tr>\n",
       "    <tr>\n",
       "      <th>22</th>\n",
       "      <td>Entrance_Test_G-MAT</td>\n",
       "      <td>1.088932</td>\n",
       "    </tr>\n",
       "    <tr>\n",
       "      <th>23</th>\n",
       "      <td>Entrance_Test_G-SAT</td>\n",
       "      <td>1.131353</td>\n",
       "    </tr>\n",
       "    <tr>\n",
       "      <th>24</th>\n",
       "      <td>Entrance_Test_GCET</td>\n",
       "      <td>1.183206</td>\n",
       "    </tr>\n",
       "    <tr>\n",
       "      <th>25</th>\n",
       "      <td>Entrance_Test_K-MAT</td>\n",
       "      <td>2.194039</td>\n",
       "    </tr>\n",
       "    <tr>\n",
       "      <th>26</th>\n",
       "      <td>Entrance_Test_MAT</td>\n",
       "      <td>12.861125</td>\n",
       "    </tr>\n",
       "    <tr>\n",
       "      <th>27</th>\n",
       "      <td>Entrance_Test_No test</td>\n",
       "      <td>5.857670</td>\n",
       "    </tr>\n",
       "    <tr>\n",
       "      <th>28</th>\n",
       "      <td>Entrance_Test_PGCET</td>\n",
       "      <td>1.487146</td>\n",
       "    </tr>\n",
       "    <tr>\n",
       "      <th>29</th>\n",
       "      <td>Entrance_Test_XAT</td>\n",
       "      <td>1.078875</td>\n",
       "    </tr>\n",
       "    <tr>\n",
       "      <th>30</th>\n",
       "      <td>Specialization_MBA_Marketing &amp; HR</td>\n",
       "      <td>1.993006</td>\n",
       "    </tr>\n",
       "    <tr>\n",
       "      <th>31</th>\n",
       "      <td>Specialization_MBA_Marketing &amp; IB</td>\n",
       "      <td>1.178772</td>\n",
       "    </tr>\n",
       "    <tr>\n",
       "      <th>32</th>\n",
       "      <td>Marks_BOCA_M</td>\n",
       "      <td>inf</td>\n",
       "    </tr>\n",
       "    <tr>\n",
       "      <th>33</th>\n",
       "      <td>Placement_Placed</td>\n",
       "      <td>15.505463</td>\n",
       "    </tr>\n",
       "  </tbody>\n",
       "</table>\n",
       "</div>"
      ],
      "text/plain": [
       "                               Features         VIF\n",
       "0                           Percent_SSC   69.141148\n",
       "1                           Percent_HSC   56.321922\n",
       "2                        Experience_Yrs    1.802230\n",
       "3                         Percentile_ET   18.577228\n",
       "4                           Percent_MBA  260.106856\n",
       "5                   Marks_Communication  110.063435\n",
       "6                     Marks_Projectwork  104.609717\n",
       "7                                Salary   11.787809\n",
       "8                              Gender_M         inf\n",
       "9                        Board_SSC_ICSE    3.182146\n",
       "10                     Board_SSC_Others    6.020772\n",
       "11                        Board_HSC_ISC    2.648726\n",
       "12                     Board_HSC_Others    7.519513\n",
       "13                  Stream_HSC_Commerce   19.251134\n",
       "14                   Stream_HSC_Science   14.566488\n",
       "15                     Percent_Degree_M         inf\n",
       "16               Course_Degree_Commerce   14.025975\n",
       "17  Course_Degree_Computer Applications    4.331165\n",
       "18            Course_Degree_Engineering    5.057627\n",
       "19             Course_Degree_Management   17.345340\n",
       "20                 Course_Degree_Others    1.516190\n",
       "21                Course_Degree_Science    3.560618\n",
       "22                  Entrance_Test_G-MAT    1.088932\n",
       "23                  Entrance_Test_G-SAT    1.131353\n",
       "24                   Entrance_Test_GCET    1.183206\n",
       "25                  Entrance_Test_K-MAT    2.194039\n",
       "26                    Entrance_Test_MAT   12.861125\n",
       "27                Entrance_Test_No test    5.857670\n",
       "28                  Entrance_Test_PGCET    1.487146\n",
       "29                    Entrance_Test_XAT    1.078875\n",
       "30    Specialization_MBA_Marketing & HR    1.993006\n",
       "31    Specialization_MBA_Marketing & IB    1.178772\n",
       "32                         Marks_BOCA_M         inf\n",
       "33                     Placement_Placed   15.505463"
      ]
     },
     "execution_count": 207,
     "metadata": {},
     "output_type": "execute_result"
    }
   ],
   "source": [
    "vif_data"
   ]
  },
  {
   "cell_type": "code",
   "execution_count": 220,
   "metadata": {},
   "outputs": [],
   "source": [
    "final_data.drop(columns=['Percent_SSC','Percent_HSC','Percent_MBA','Marks_Communication','Marks_Projectwork','Gender_M','Percent_Degree_M','Marks_BOCA_M'],axis=1,inplace=True)"
   ]
  },
  {
   "cell_type": "code",
   "execution_count": 236,
   "metadata": {},
   "outputs": [
    {
     "data": {
      "text/html": [
       "<div>\n",
       "<style scoped>\n",
       "    .dataframe tbody tr th:only-of-type {\n",
       "        vertical-align: middle;\n",
       "    }\n",
       "\n",
       "    .dataframe tbody tr th {\n",
       "        vertical-align: top;\n",
       "    }\n",
       "\n",
       "    .dataframe thead th {\n",
       "        text-align: right;\n",
       "    }\n",
       "</style>\n",
       "<table border=\"1\" class=\"dataframe\">\n",
       "  <thead>\n",
       "    <tr style=\"text-align: right;\">\n",
       "      <th></th>\n",
       "      <th>Experience_Yrs</th>\n",
       "      <th>Percentile_ET</th>\n",
       "      <th>Salary</th>\n",
       "      <th>Board_SSC_ICSE</th>\n",
       "      <th>Board_SSC_Others</th>\n",
       "      <th>Board_HSC_ISC</th>\n",
       "      <th>Board_HSC_Others</th>\n",
       "      <th>Stream_HSC_Commerce</th>\n",
       "      <th>Stream_HSC_Science</th>\n",
       "      <th>Course_Degree_Commerce</th>\n",
       "      <th>...</th>\n",
       "      <th>Entrance_Test_G-SAT</th>\n",
       "      <th>Entrance_Test_GCET</th>\n",
       "      <th>Entrance_Test_K-MAT</th>\n",
       "      <th>Entrance_Test_MAT</th>\n",
       "      <th>Entrance_Test_No test</th>\n",
       "      <th>Entrance_Test_PGCET</th>\n",
       "      <th>Entrance_Test_XAT</th>\n",
       "      <th>Specialization_MBA_Marketing &amp; HR</th>\n",
       "      <th>Specialization_MBA_Marketing &amp; IB</th>\n",
       "      <th>Placement_Placed</th>\n",
       "    </tr>\n",
       "  </thead>\n",
       "  <tbody>\n",
       "    <tr>\n",
       "      <th>0</th>\n",
       "      <td>0</td>\n",
       "      <td>55.00</td>\n",
       "      <td>270000</td>\n",
       "      <td>0</td>\n",
       "      <td>1</td>\n",
       "      <td>0</td>\n",
       "      <td>1</td>\n",
       "      <td>1</td>\n",
       "      <td>0</td>\n",
       "      <td>0</td>\n",
       "      <td>...</td>\n",
       "      <td>0</td>\n",
       "      <td>0</td>\n",
       "      <td>0</td>\n",
       "      <td>1</td>\n",
       "      <td>0</td>\n",
       "      <td>0</td>\n",
       "      <td>0</td>\n",
       "      <td>1</td>\n",
       "      <td>0</td>\n",
       "      <td>1</td>\n",
       "    </tr>\n",
       "    <tr>\n",
       "      <th>1</th>\n",
       "      <td>1</td>\n",
       "      <td>86.50</td>\n",
       "      <td>200000</td>\n",
       "      <td>1</td>\n",
       "      <td>0</td>\n",
       "      <td>0</td>\n",
       "      <td>1</td>\n",
       "      <td>0</td>\n",
       "      <td>1</td>\n",
       "      <td>0</td>\n",
       "      <td>...</td>\n",
       "      <td>0</td>\n",
       "      <td>0</td>\n",
       "      <td>0</td>\n",
       "      <td>1</td>\n",
       "      <td>0</td>\n",
       "      <td>0</td>\n",
       "      <td>0</td>\n",
       "      <td>0</td>\n",
       "      <td>0</td>\n",
       "      <td>1</td>\n",
       "    </tr>\n",
       "    <tr>\n",
       "      <th>2</th>\n",
       "      <td>0</td>\n",
       "      <td>0.00</td>\n",
       "      <td>240000</td>\n",
       "      <td>0</td>\n",
       "      <td>1</td>\n",
       "      <td>0</td>\n",
       "      <td>1</td>\n",
       "      <td>1</td>\n",
       "      <td>0</td>\n",
       "      <td>0</td>\n",
       "      <td>...</td>\n",
       "      <td>0</td>\n",
       "      <td>0</td>\n",
       "      <td>0</td>\n",
       "      <td>0</td>\n",
       "      <td>1</td>\n",
       "      <td>0</td>\n",
       "      <td>0</td>\n",
       "      <td>0</td>\n",
       "      <td>0</td>\n",
       "      <td>1</td>\n",
       "    </tr>\n",
       "    <tr>\n",
       "      <th>3</th>\n",
       "      <td>0</td>\n",
       "      <td>75.00</td>\n",
       "      <td>250000</td>\n",
       "      <td>0</td>\n",
       "      <td>0</td>\n",
       "      <td>0</td>\n",
       "      <td>0</td>\n",
       "      <td>0</td>\n",
       "      <td>0</td>\n",
       "      <td>0</td>\n",
       "      <td>...</td>\n",
       "      <td>0</td>\n",
       "      <td>0</td>\n",
       "      <td>0</td>\n",
       "      <td>1</td>\n",
       "      <td>0</td>\n",
       "      <td>0</td>\n",
       "      <td>0</td>\n",
       "      <td>0</td>\n",
       "      <td>0</td>\n",
       "      <td>1</td>\n",
       "    </tr>\n",
       "    <tr>\n",
       "      <th>4</th>\n",
       "      <td>1</td>\n",
       "      <td>66.00</td>\n",
       "      <td>180000</td>\n",
       "      <td>0</td>\n",
       "      <td>0</td>\n",
       "      <td>1</td>\n",
       "      <td>0</td>\n",
       "      <td>0</td>\n",
       "      <td>1</td>\n",
       "      <td>0</td>\n",
       "      <td>...</td>\n",
       "      <td>0</td>\n",
       "      <td>0</td>\n",
       "      <td>0</td>\n",
       "      <td>1</td>\n",
       "      <td>0</td>\n",
       "      <td>0</td>\n",
       "      <td>0</td>\n",
       "      <td>1</td>\n",
       "      <td>0</td>\n",
       "      <td>1</td>\n",
       "    </tr>\n",
       "    <tr>\n",
       "      <th>...</th>\n",
       "      <td>...</td>\n",
       "      <td>...</td>\n",
       "      <td>...</td>\n",
       "      <td>...</td>\n",
       "      <td>...</td>\n",
       "      <td>...</td>\n",
       "      <td>...</td>\n",
       "      <td>...</td>\n",
       "      <td>...</td>\n",
       "      <td>...</td>\n",
       "      <td>...</td>\n",
       "      <td>...</td>\n",
       "      <td>...</td>\n",
       "      <td>...</td>\n",
       "      <td>...</td>\n",
       "      <td>...</td>\n",
       "      <td>...</td>\n",
       "      <td>...</td>\n",
       "      <td>...</td>\n",
       "      <td>...</td>\n",
       "      <td>...</td>\n",
       "    </tr>\n",
       "    <tr>\n",
       "      <th>386</th>\n",
       "      <td>0</td>\n",
       "      <td>34.53</td>\n",
       "      <td>162000</td>\n",
       "      <td>0</td>\n",
       "      <td>1</td>\n",
       "      <td>0</td>\n",
       "      <td>1</td>\n",
       "      <td>1</td>\n",
       "      <td>0</td>\n",
       "      <td>0</td>\n",
       "      <td>...</td>\n",
       "      <td>0</td>\n",
       "      <td>0</td>\n",
       "      <td>0</td>\n",
       "      <td>1</td>\n",
       "      <td>0</td>\n",
       "      <td>0</td>\n",
       "      <td>0</td>\n",
       "      <td>1</td>\n",
       "      <td>0</td>\n",
       "      <td>1</td>\n",
       "    </tr>\n",
       "    <tr>\n",
       "      <th>387</th>\n",
       "      <td>0</td>\n",
       "      <td>50.53</td>\n",
       "      <td>450000</td>\n",
       "      <td>0</td>\n",
       "      <td>1</td>\n",
       "      <td>0</td>\n",
       "      <td>1</td>\n",
       "      <td>0</td>\n",
       "      <td>1</td>\n",
       "      <td>0</td>\n",
       "      <td>...</td>\n",
       "      <td>0</td>\n",
       "      <td>0</td>\n",
       "      <td>0</td>\n",
       "      <td>1</td>\n",
       "      <td>0</td>\n",
       "      <td>0</td>\n",
       "      <td>0</td>\n",
       "      <td>0</td>\n",
       "      <td>0</td>\n",
       "      <td>1</td>\n",
       "    </tr>\n",
       "    <tr>\n",
       "      <th>388</th>\n",
       "      <td>0</td>\n",
       "      <td>60.00</td>\n",
       "      <td>240000</td>\n",
       "      <td>0</td>\n",
       "      <td>1</td>\n",
       "      <td>0</td>\n",
       "      <td>1</td>\n",
       "      <td>1</td>\n",
       "      <td>0</td>\n",
       "      <td>0</td>\n",
       "      <td>...</td>\n",
       "      <td>0</td>\n",
       "      <td>0</td>\n",
       "      <td>0</td>\n",
       "      <td>1</td>\n",
       "      <td>0</td>\n",
       "      <td>0</td>\n",
       "      <td>0</td>\n",
       "      <td>0</td>\n",
       "      <td>1</td>\n",
       "      <td>1</td>\n",
       "    </tr>\n",
       "    <tr>\n",
       "      <th>389</th>\n",
       "      <td>0</td>\n",
       "      <td>77.00</td>\n",
       "      <td>300000</td>\n",
       "      <td>1</td>\n",
       "      <td>0</td>\n",
       "      <td>1</td>\n",
       "      <td>0</td>\n",
       "      <td>1</td>\n",
       "      <td>0</td>\n",
       "      <td>1</td>\n",
       "      <td>...</td>\n",
       "      <td>0</td>\n",
       "      <td>0</td>\n",
       "      <td>0</td>\n",
       "      <td>1</td>\n",
       "      <td>0</td>\n",
       "      <td>0</td>\n",
       "      <td>0</td>\n",
       "      <td>0</td>\n",
       "      <td>0</td>\n",
       "      <td>1</td>\n",
       "    </tr>\n",
       "    <tr>\n",
       "      <th>390</th>\n",
       "      <td>0</td>\n",
       "      <td>58.89</td>\n",
       "      <td>0</td>\n",
       "      <td>0</td>\n",
       "      <td>1</td>\n",
       "      <td>0</td>\n",
       "      <td>1</td>\n",
       "      <td>1</td>\n",
       "      <td>0</td>\n",
       "      <td>1</td>\n",
       "      <td>...</td>\n",
       "      <td>0</td>\n",
       "      <td>0</td>\n",
       "      <td>0</td>\n",
       "      <td>1</td>\n",
       "      <td>0</td>\n",
       "      <td>0</td>\n",
       "      <td>0</td>\n",
       "      <td>0</td>\n",
       "      <td>0</td>\n",
       "      <td>0</td>\n",
       "    </tr>\n",
       "  </tbody>\n",
       "</table>\n",
       "<p>391 rows × 26 columns</p>\n",
       "</div>"
      ],
      "text/plain": [
       "     Experience_Yrs  Percentile_ET  Salary  Board_SSC_ICSE  Board_SSC_Others  \\\n",
       "0                 0          55.00  270000               0                 1   \n",
       "1                 1          86.50  200000               1                 0   \n",
       "2                 0           0.00  240000               0                 1   \n",
       "3                 0          75.00  250000               0                 0   \n",
       "4                 1          66.00  180000               0                 0   \n",
       "..              ...            ...     ...             ...               ...   \n",
       "386               0          34.53  162000               0                 1   \n",
       "387               0          50.53  450000               0                 1   \n",
       "388               0          60.00  240000               0                 1   \n",
       "389               0          77.00  300000               1                 0   \n",
       "390               0          58.89       0               0                 1   \n",
       "\n",
       "     Board_HSC_ISC  Board_HSC_Others  Stream_HSC_Commerce  Stream_HSC_Science  \\\n",
       "0                0                 1                    1                   0   \n",
       "1                0                 1                    0                   1   \n",
       "2                0                 1                    1                   0   \n",
       "3                0                 0                    0                   0   \n",
       "4                1                 0                    0                   1   \n",
       "..             ...               ...                  ...                 ...   \n",
       "386              0                 1                    1                   0   \n",
       "387              0                 1                    0                   1   \n",
       "388              0                 1                    1                   0   \n",
       "389              1                 0                    1                   0   \n",
       "390              0                 1                    1                   0   \n",
       "\n",
       "     Course_Degree_Commerce  ...  Entrance_Test_G-SAT  Entrance_Test_GCET  \\\n",
       "0                         0  ...                    0                   0   \n",
       "1                         0  ...                    0                   0   \n",
       "2                         0  ...                    0                   0   \n",
       "3                         0  ...                    0                   0   \n",
       "4                         0  ...                    0                   0   \n",
       "..                      ...  ...                  ...                 ...   \n",
       "386                       0  ...                    0                   0   \n",
       "387                       0  ...                    0                   0   \n",
       "388                       0  ...                    0                   0   \n",
       "389                       1  ...                    0                   0   \n",
       "390                       1  ...                    0                   0   \n",
       "\n",
       "     Entrance_Test_K-MAT  Entrance_Test_MAT  Entrance_Test_No test  \\\n",
       "0                      0                  1                      0   \n",
       "1                      0                  1                      0   \n",
       "2                      0                  0                      1   \n",
       "3                      0                  1                      0   \n",
       "4                      0                  1                      0   \n",
       "..                   ...                ...                    ...   \n",
       "386                    0                  1                      0   \n",
       "387                    0                  1                      0   \n",
       "388                    0                  1                      0   \n",
       "389                    0                  1                      0   \n",
       "390                    0                  1                      0   \n",
       "\n",
       "     Entrance_Test_PGCET  Entrance_Test_XAT  \\\n",
       "0                      0                  0   \n",
       "1                      0                  0   \n",
       "2                      0                  0   \n",
       "3                      0                  0   \n",
       "4                      0                  0   \n",
       "..                   ...                ...   \n",
       "386                    0                  0   \n",
       "387                    0                  0   \n",
       "388                    0                  0   \n",
       "389                    0                  0   \n",
       "390                    0                  0   \n",
       "\n",
       "     Specialization_MBA_Marketing & HR  Specialization_MBA_Marketing & IB  \\\n",
       "0                                    1                                  0   \n",
       "1                                    0                                  0   \n",
       "2                                    0                                  0   \n",
       "3                                    0                                  0   \n",
       "4                                    1                                  0   \n",
       "..                                 ...                                ...   \n",
       "386                                  1                                  0   \n",
       "387                                  0                                  0   \n",
       "388                                  0                                  1   \n",
       "389                                  0                                  0   \n",
       "390                                  0                                  0   \n",
       "\n",
       "     Placement_Placed  \n",
       "0                   1  \n",
       "1                   1  \n",
       "2                   1  \n",
       "3                   1  \n",
       "4                   1  \n",
       "..                ...  \n",
       "386                 1  \n",
       "387                 1  \n",
       "388                 1  \n",
       "389                 1  \n",
       "390                 0  \n",
       "\n",
       "[391 rows x 26 columns]"
      ]
     },
     "execution_count": 236,
     "metadata": {},
     "output_type": "execute_result"
    }
   ],
   "source": [
    "final_data"
   ]
  },
  {
   "cell_type": "code",
   "execution_count": 237,
   "metadata": {},
   "outputs": [],
   "source": [
    "X1=final_data.drop('Salary',axis=1)\n",
    "y1=final_data['Salary']"
   ]
  },
  {
   "cell_type": "code",
   "execution_count": 238,
   "metadata": {},
   "outputs": [
    {
     "data": {
      "text/plain": [
       "(391, 25)"
      ]
     },
     "execution_count": 238,
     "metadata": {},
     "output_type": "execute_result"
    }
   ],
   "source": [
    "X1.shape"
   ]
  },
  {
   "cell_type": "code",
   "execution_count": 239,
   "metadata": {},
   "outputs": [
    {
     "data": {
      "text/plain": [
       "(391,)"
      ]
     },
     "execution_count": 239,
     "metadata": {},
     "output_type": "execute_result"
    }
   ],
   "source": [
    "y1.shape"
   ]
  },
  {
   "cell_type": "code",
   "execution_count": 240,
   "metadata": {},
   "outputs": [],
   "source": [
    "x1_train,x1_test,y1_train,y1_test=train_test_split(X1,y1,test_size=0.3,random_state=123)"
   ]
  },
  {
   "cell_type": "code",
   "execution_count": 241,
   "metadata": {},
   "outputs": [
    {
     "data": {
      "text/plain": [
       "(273, 25)"
      ]
     },
     "execution_count": 241,
     "metadata": {},
     "output_type": "execute_result"
    }
   ],
   "source": [
    "x1_train.shape"
   ]
  },
  {
   "cell_type": "code",
   "execution_count": 242,
   "metadata": {},
   "outputs": [
    {
     "data": {
      "text/plain": [
       "(118, 25)"
      ]
     },
     "execution_count": 242,
     "metadata": {},
     "output_type": "execute_result"
    }
   ],
   "source": [
    "x1_test.shape"
   ]
  },
  {
   "cell_type": "code",
   "execution_count": 243,
   "metadata": {},
   "outputs": [
    {
     "data": {
      "text/plain": [
       "(273,)"
      ]
     },
     "execution_count": 243,
     "metadata": {},
     "output_type": "execute_result"
    }
   ],
   "source": [
    "y1_train.shape"
   ]
  },
  {
   "cell_type": "code",
   "execution_count": 244,
   "metadata": {},
   "outputs": [
    {
     "data": {
      "text/plain": [
       "(118,)"
      ]
     },
     "execution_count": 244,
     "metadata": {},
     "output_type": "execute_result"
    }
   ],
   "source": [
    "y1_test.shape"
   ]
  },
  {
   "cell_type": "code",
   "execution_count": 231,
   "metadata": {},
   "outputs": [],
   "source": [
    "Lr1= LinearRegression()"
   ]
  },
  {
   "cell_type": "code",
   "execution_count": 245,
   "metadata": {},
   "outputs": [
    {
     "data": {
      "text/plain": [
       "LinearRegression()"
      ]
     },
     "execution_count": 245,
     "metadata": {},
     "output_type": "execute_result"
    }
   ],
   "source": [
    "Lr1.fit(x1_train,y1_train)"
   ]
  },
  {
   "cell_type": "code",
   "execution_count": 246,
   "metadata": {},
   "outputs": [],
   "source": [
    "y1_pred=Lr1.predict(x1_test)"
   ]
  },
  {
   "cell_type": "code",
   "execution_count": 247,
   "metadata": {},
   "outputs": [
    {
     "data": {
      "text/plain": [
       "array([292427.91868815, 299537.05682845, 258756.84248635, 306953.60811996,\n",
       "       -50057.04522751, 220000.54997976, 317792.13618816, 334091.98907965,\n",
       "       276941.06744837,  18149.88137069, 241756.1974255 , 247160.86535585,\n",
       "       207238.18508695, 265609.38601994, 240851.95016231, 315824.80304494,\n",
       "       331557.71424369, 250852.74651952, 294340.48812313, 296331.12107773,\n",
       "       252530.92577224, 262408.87592136, 290402.41552865, 266587.86279782,\n",
       "        46357.95207904, 289361.86527885,  -2427.89307345, 272442.93155416,\n",
       "       213885.70322447, 295565.83665225, 269062.91137042, 263087.77091709,\n",
       "       308626.747692  , 278257.25921344, 241841.98730962,    416.7476845 ,\n",
       "       220329.23297846, -42694.97682906, 266939.67836921, 222641.78531141,\n",
       "       346815.3874151 , 389736.67264713, 215386.847707  , 277324.05980807,\n",
       "       249660.73502948, 272183.74932201, -18541.35753397, -15117.58432993,\n",
       "       286332.98457162, 335837.24828349, 335147.35492353, 239768.34348445,\n",
       "       251814.97223307, 290146.29095169, 312452.86196896, 258169.88922185,\n",
       "       -29201.67866119, 302202.79520111,  23042.32545462, 299443.3552345 ,\n",
       "       274426.89481732,  34610.03403422, 335837.24828349, 238917.68442178,\n",
       "        68977.56846146, -28286.81695404,  45111.93822669, 242004.94465167,\n",
       "       217339.3594624 , 279331.72643073, 290650.74362506, 257804.33921596,\n",
       "       219884.98360121, 231153.51009835, 226101.81664732, 220455.39737891,\n",
       "       239626.9845733 , 289096.98508999, 213817.9971929 , 239243.84518408,\n",
       "       304904.70586491, 347719.63467829, 297541.89128163, 289966.69891326,\n",
       "       322675.29628789, 260813.72114221, 279597.92635746, 264804.13531409,\n",
       "       298446.13854482, 338290.24145066, 326579.09139942, 236077.88423215,\n",
       "       304567.51429458, 253954.91872993, 366666.47109911, 255604.74436748,\n",
       "       336374.14172362,   9939.24293857, 340643.02803499,   8234.53107501,\n",
       "       288580.11555928, 279631.74747584, 250986.18728181, 297900.20635818,\n",
       "       290266.11254204, 243704.7694108 , 268522.40192672,  17668.43559402,\n",
       "       246080.96531967, -35371.04640951, 303933.94558559,  20965.6202437 ,\n",
       "        -3153.80917566, 329238.79127319, 269330.93007352, -26771.99501761,\n",
       "       283481.02558811, 279331.72643073])"
      ]
     },
     "execution_count": 247,
     "metadata": {},
     "output_type": "execute_result"
    }
   ],
   "source": [
    "y1_pred"
   ]
  },
  {
   "cell_type": "code",
   "execution_count": 248,
   "metadata": {},
   "outputs": [
    {
     "data": {
      "text/plain": [
       "-47055.107336664834"
      ]
     },
     "execution_count": 248,
     "metadata": {},
     "output_type": "execute_result"
    }
   ],
   "source": [
    "Lr1.intercept_"
   ]
  },
  {
   "cell_type": "code",
   "execution_count": 249,
   "metadata": {},
   "outputs": [
    {
     "data": {
      "text/plain": [
       "array([ 18210.1648509 ,    633.56870899,   9728.0353817 ,   -319.13713449,\n",
       "        -1675.81100979,   7467.11424321,  26465.78796664,  22727.530644  ,\n",
       "        14826.12412485,   7808.86009388,  56540.60131486, -13652.85578636,\n",
       "       -29732.86829284,  -2010.50249689,  55006.8079391 , -12665.86914925,\n",
       "       -32027.95640666,  34324.06956574, -25403.94011261,   7648.5932505 ,\n",
       "        30340.22820695, -36777.38249629, -28210.96120811, -24282.38542813,\n",
       "       270298.35131668])"
      ]
     },
     "execution_count": 249,
     "metadata": {},
     "output_type": "execute_result"
    }
   ],
   "source": [
    "Lr1.coef_"
   ]
  },
  {
   "cell_type": "code",
   "execution_count": 250,
   "metadata": {},
   "outputs": [
    {
     "data": {
      "text/plain": [
       "0.5378783766860764"
      ]
     },
     "execution_count": 250,
     "metadata": {},
     "output_type": "execute_result"
    }
   ],
   "source": [
    "r2_score(y1_test,y1_pred)"
   ]
  },
  {
   "cell_type": "code",
   "execution_count": 251,
   "metadata": {},
   "outputs": [
    {
     "data": {
      "text/plain": [
       "8731659863.967976"
      ]
     },
     "execution_count": 251,
     "metadata": {},
     "output_type": "execute_result"
    }
   ],
   "source": [
    "mean_squared_error(y1_test,y1_pred)"
   ]
  },
  {
   "cell_type": "code",
   "execution_count": 252,
   "metadata": {},
   "outputs": [
    {
     "data": {
      "text/plain": [
       "93443.35109555937"
      ]
     },
     "execution_count": 252,
     "metadata": {},
     "output_type": "execute_result"
    }
   ],
   "source": [
    "np.sqrt(mean_squared_error(y1_test,y1_pred))"
   ]
  },
  {
   "cell_type": "code",
   "execution_count": 253,
   "metadata": {},
   "outputs": [
    {
     "data": {
      "text/plain": [
       "58802.95908538237"
      ]
     },
     "execution_count": 253,
     "metadata": {},
     "output_type": "execute_result"
    }
   ],
   "source": [
    "mean_absolute_error(y1_test,y1_pred)"
   ]
  },
  {
   "cell_type": "raw",
   "metadata": {},
   "source": [
    "Forward selection"
   ]
  },
  {
   "cell_type": "code",
   "execution_count": 254,
   "metadata": {},
   "outputs": [],
   "source": [
    "from mlxtend.feature_selection import SequentialFeatureSelector as sfs"
   ]
  },
  {
   "cell_type": "code",
   "execution_count": 257,
   "metadata": {},
   "outputs": [],
   "source": [
    "X1 = final_data.drop('Salary', axis = 1)\n",
    "\n",
    "# dependent variable\n",
    "y1 = final_data['Salary']"
   ]
  },
  {
   "cell_type": "code",
   "execution_count": 258,
   "metadata": {},
   "outputs": [],
   "source": [
    "X_train, X_test, y_train, y_test = train_test_split(X1, y1, test_size = 0.20, random_state = 10)\n",
    "\n",
    "# initiate linear regression model to use in feature selection\n",
    "linreg = LinearRegression()"
   ]
  },
  {
   "cell_type": "code",
   "execution_count": 259,
   "metadata": {},
   "outputs": [
    {
     "name": "stderr",
     "output_type": "stream",
     "text": [
      "[Parallel(n_jobs=1)]: Using backend SequentialBackend with 1 concurrent workers.\n",
      "[Parallel(n_jobs=1)]: Done   1 out of   1 | elapsed:    0.0s remaining:    0.0s\n",
      "[Parallel(n_jobs=1)]: Done  25 out of  25 | elapsed:    0.2s finished\n",
      "\n",
      "[2021-05-03 12:05:15] Features: 1/5 -- score: 0.6923233600513529[Parallel(n_jobs=1)]: Using backend SequentialBackend with 1 concurrent workers.\n",
      "[Parallel(n_jobs=1)]: Done   1 out of   1 | elapsed:    0.0s remaining:    0.0s\n",
      "[Parallel(n_jobs=1)]: Done  24 out of  24 | elapsed:    0.1s finished\n",
      "\n",
      "[2021-05-03 12:05:15] Features: 2/5 -- score: 0.7004941653119885[Parallel(n_jobs=1)]: Using backend SequentialBackend with 1 concurrent workers.\n",
      "[Parallel(n_jobs=1)]: Done   1 out of   1 | elapsed:    0.0s remaining:    0.0s\n",
      "[Parallel(n_jobs=1)]: Done  23 out of  23 | elapsed:    0.1s finished\n",
      "\n",
      "[2021-05-03 12:05:15] Features: 3/5 -- score: 0.7088071317738193[Parallel(n_jobs=1)]: Using backend SequentialBackend with 1 concurrent workers.\n",
      "[Parallel(n_jobs=1)]: Done   1 out of   1 | elapsed:    0.0s remaining:    0.0s\n",
      "[Parallel(n_jobs=1)]: Done  22 out of  22 | elapsed:    0.1s finished\n",
      "\n",
      "[2021-05-03 12:05:15] Features: 4/5 -- score: 0.7131176981536621[Parallel(n_jobs=1)]: Using backend SequentialBackend with 1 concurrent workers.\n",
      "[Parallel(n_jobs=1)]: Done   1 out of   1 | elapsed:    0.0s remaining:    0.0s\n",
      "[Parallel(n_jobs=1)]: Done  21 out of  21 | elapsed:    0.1s finished\n",
      "\n",
      "[2021-05-03 12:05:16] Features: 5/5 -- score: 0.729119619163628"
     ]
    }
   ],
   "source": [
    "linreg_forward = sfs(estimator = linreg, k_features = 5, forward = True, verbose = 2, scoring = 'r2')\n",
    "\n",
    "# fit the forward selection on training data using fit()\n",
    "sfs_forward = linreg_forward.fit(X_train, y_train)"
   ]
  },
  {
   "cell_type": "code",
   "execution_count": 260,
   "metadata": {},
   "outputs": [
    {
     "name": "stdout",
     "output_type": "stream",
     "text": [
      "Features selelected using forward selection are: \n",
      " ('Percentile_ET', 'Course_Degree_Engineering', 'Entrance_Test_MAT', 'Specialization_MBA_Marketing & HR', 'Placement_Placed')\n",
      "\n",
      "R-squared:  0.729119619163628\n"
     ]
    }
   ],
   "source": [
    "# print the selected feature names when k_features = 5\n",
    "print('Features selelected using forward selection are: \\n',sfs_forward.k_feature_names_)\n",
    "\n",
    "# print the R-squared value\n",
    "print('\\nR-squared: ', sfs_forward.k_score_)"
   ]
  },
  {
   "cell_type": "code",
   "execution_count": 274,
   "metadata": {},
   "outputs": [],
   "source": [
    "X2=final_data[['Percentile_ET', 'Course_Degree_Engineering', 'Entrance_Test_MAT', 'Specialization_MBA_Marketing & HR', 'Placement_Placed']]\n",
    "y2=final_data['Salary']"
   ]
  },
  {
   "cell_type": "code",
   "execution_count": 275,
   "metadata": {},
   "outputs": [
    {
     "data": {
      "text/plain": [
       "(391, 5)"
      ]
     },
     "execution_count": 275,
     "metadata": {},
     "output_type": "execute_result"
    }
   ],
   "source": [
    "X2.shape"
   ]
  },
  {
   "cell_type": "code",
   "execution_count": 276,
   "metadata": {},
   "outputs": [
    {
     "data": {
      "text/plain": [
       "(391,)"
      ]
     },
     "execution_count": 276,
     "metadata": {},
     "output_type": "execute_result"
    }
   ],
   "source": [
    "y2.shape"
   ]
  },
  {
   "cell_type": "code",
   "execution_count": 277,
   "metadata": {},
   "outputs": [],
   "source": [
    "x2_train,x2_test,y2_train,y2_test=train_test_split(X2,y2,test_size=0.3,random_state=123)"
   ]
  },
  {
   "cell_type": "code",
   "execution_count": 278,
   "metadata": {},
   "outputs": [
    {
     "data": {
      "text/plain": [
       "(273, 5)"
      ]
     },
     "execution_count": 278,
     "metadata": {},
     "output_type": "execute_result"
    }
   ],
   "source": [
    "x2_train.shape"
   ]
  },
  {
   "cell_type": "code",
   "execution_count": 279,
   "metadata": {},
   "outputs": [
    {
     "data": {
      "text/plain": [
       "(118, 5)"
      ]
     },
     "execution_count": 279,
     "metadata": {},
     "output_type": "execute_result"
    }
   ],
   "source": [
    "x2_test.shape"
   ]
  },
  {
   "cell_type": "code",
   "execution_count": 280,
   "metadata": {},
   "outputs": [
    {
     "data": {
      "text/plain": [
       "(273,)"
      ]
     },
     "execution_count": 280,
     "metadata": {},
     "output_type": "execute_result"
    }
   ],
   "source": [
    "y2_train.shape"
   ]
  },
  {
   "cell_type": "code",
   "execution_count": 281,
   "metadata": {},
   "outputs": [
    {
     "data": {
      "text/plain": [
       "(118,)"
      ]
     },
     "execution_count": 281,
     "metadata": {},
     "output_type": "execute_result"
    }
   ],
   "source": [
    "y2_test.shape"
   ]
  },
  {
   "cell_type": "code",
   "execution_count": 282,
   "metadata": {},
   "outputs": [],
   "source": [
    "Lr2= LinearRegression()"
   ]
  },
  {
   "cell_type": "code",
   "execution_count": 283,
   "metadata": {},
   "outputs": [
    {
     "data": {
      "text/plain": [
       "LinearRegression()"
      ]
     },
     "execution_count": 283,
     "metadata": {},
     "output_type": "execute_result"
    }
   ],
   "source": [
    "Lr2.fit(x2_train,y2_train)"
   ]
  },
  {
   "cell_type": "code",
   "execution_count": 285,
   "metadata": {},
   "outputs": [],
   "source": [
    "y2_pred=Lr2.predict(x2_test)"
   ]
  },
  {
   "cell_type": "code",
   "execution_count": 287,
   "metadata": {},
   "outputs": [
    {
     "data": {
      "text/plain": [
       "array([292491.22806303, 273372.41256014, 270352.35952999, 286541.85860907,\n",
       "       -37077.02912643, 232237.3908811 , 314374.72265714, 294110.50576362,\n",
       "       275945.75259269,  25757.30394472, 243295.02155842, 243295.02155842,\n",
       "       243295.02155842, 266863.37600723, 243295.02155842, 294042.38793923,\n",
       "       291083.0469018 , 270352.35952999, 268377.10543814, 282757.53503179,\n",
       "       277459.4820236 , 260241.38535296, 259484.5206375 , 262511.97949932,\n",
       "          750.33093059, 274432.02316178, -26307.00704098, 266106.51129177,\n",
       "       243295.02155842, 294110.50576362, 270352.35952999, 243044.84341184,\n",
       "       330144.67205098, 267810.03250751, 222965.22251081,  10128.04757057,\n",
       "       226182.47315746, -28282.26113283, 272918.29373087, 243295.02155842,\n",
       "       333863.41347416, 367816.77739997, 235264.84974292, 260051.59356813,\n",
       "       242833.49689748, 270352.35952999,    750.33093059,  -1981.78787672,\n",
       "       282000.67031634, 328270.02041146, 323332.88961188, 278216.34673906,\n",
       "       282000.67031634, 297137.96462545, 279881.44911306, 279730.07616997,\n",
       "        27240.59597153, 292596.77633271,   9583.10497544, 285527.65989036,\n",
       "       255510.40527539,  37836.70198791, 328270.02041146, 242833.49689748,\n",
       "        55254.69476083,  -8793.57031582,  77506.51739523, 266106.51129177,\n",
       "       233524.06089738, 270352.35952999, 266484.9436495 , 251915.87348295,\n",
       "       245104.09104385, 249645.27933658, 239525.99809094, 241319.76746657,\n",
       "       268687.99557744, 301212.68243989, 243295.02155842, 243295.02155842,\n",
       "       271245.62270971, 333863.41347416, 270352.35952999, 280191.60083091,\n",
       "       330901.53676643, 243295.02155842, 283817.14563343, 242833.49689748,\n",
       "       270352.35952999, 267620.24072268, 297137.96462545, 237535.44388929,\n",
       "       292596.77633271, 255700.19706022, 321062.29546551, 296275.55164031,\n",
       "       295624.23519454,  -8603.77853099, 348243.84306781,  13912.37114784,\n",
       "       264592.78186086, 246617.82047476, 222398.14958018, 301671.42145554,\n",
       "       274432.02316178, 270352.35952999, 292097.24562051,  -8838.98219875,\n",
       "       238292.30860475, -28282.26113283, 291839.91161726, -14651.70321345,\n",
       "       -28282.26113283, 334620.27818961, 243295.02155842, -31014.54275563,\n",
       "       275945.75259269, 270352.35952999])"
      ]
     },
     "execution_count": 287,
     "metadata": {},
     "output_type": "execute_result"
    }
   ],
   "source": [
    "y2_pred"
   ]
  },
  {
   "cell_type": "code",
   "execution_count": 288,
   "metadata": {},
   "outputs": [
    {
     "data": {
      "text/plain": [
       "750.3309305908333"
      ]
     },
     "execution_count": 288,
     "metadata": {},
     "output_type": "execute_result"
    }
   ],
   "source": [
    "Lr2.intercept_"
   ]
  },
  {
   "cell_type": "code",
   "execution_count": 289,
   "metadata": {},
   "outputs": [
    {
     "data": {
      "text/plain": [
       "array([   756.86471546,  57917.66088146, -47387.13701919, -27057.33797157,\n",
       "       269602.0285994 ])"
      ]
     },
     "execution_count": 289,
     "metadata": {},
     "output_type": "execute_result"
    }
   ],
   "source": [
    "Lr2.coef_"
   ]
  },
  {
   "cell_type": "code",
   "execution_count": 290,
   "metadata": {},
   "outputs": [
    {
     "data": {
      "text/plain": [
       "0.5685292909484863"
      ]
     },
     "execution_count": 290,
     "metadata": {},
     "output_type": "execute_result"
    }
   ],
   "source": [
    "r2_score(y2_test,y2_pred)"
   ]
  },
  {
   "cell_type": "code",
   "execution_count": 291,
   "metadata": {},
   "outputs": [
    {
     "data": {
      "text/plain": [
       "8152519342.605266"
      ]
     },
     "execution_count": 291,
     "metadata": {},
     "output_type": "execute_result"
    }
   ],
   "source": [
    "mean_squared_error(y2_test,y2_pred)"
   ]
  },
  {
   "cell_type": "code",
   "execution_count": 292,
   "metadata": {},
   "outputs": [
    {
     "data": {
      "text/plain": [
       "90291.30269635755"
      ]
     },
     "execution_count": 292,
     "metadata": {},
     "output_type": "execute_result"
    }
   ],
   "source": [
    "np.sqrt(mean_squared_error(y2_test,y2_pred))"
   ]
  },
  {
   "cell_type": "code",
   "execution_count": 293,
   "metadata": {},
   "outputs": [
    {
     "data": {
      "text/plain": [
       "53791.43948071377"
      ]
     },
     "execution_count": 293,
     "metadata": {},
     "output_type": "execute_result"
    }
   ],
   "source": [
    "mean_absolute_error(y2_test,y2_pred)"
   ]
  },
  {
   "cell_type": "markdown",
   "metadata": {},
   "source": [
    "### Using Backward Selection Technique"
   ]
  },
  {
   "cell_type": "code",
   "execution_count": 296,
   "metadata": {},
   "outputs": [
    {
     "name": "stderr",
     "output_type": "stream",
     "text": [
      "[Parallel(n_jobs=1)]: Using backend SequentialBackend with 1 concurrent workers.\n",
      "[Parallel(n_jobs=1)]: Done   1 out of   1 | elapsed:    0.0s remaining:    0.0s\n",
      "[Parallel(n_jobs=1)]: Done  25 out of  25 | elapsed:    0.4s finished\n",
      "\n",
      "[2021-05-03 12:15:26] Features: 24/1 -- score: 0.6841363641204647[Parallel(n_jobs=1)]: Using backend SequentialBackend with 1 concurrent workers.\n",
      "[Parallel(n_jobs=1)]: Done   1 out of   1 | elapsed:    0.0s remaining:    0.0s\n",
      "[Parallel(n_jobs=1)]: Done  24 out of  24 | elapsed:    0.2s finished\n",
      "\n",
      "[2021-05-03 12:15:27] Features: 23/1 -- score: 0.6882398266678662[Parallel(n_jobs=1)]: Using backend SequentialBackend with 1 concurrent workers.\n",
      "[Parallel(n_jobs=1)]: Done   1 out of   1 | elapsed:    0.0s remaining:    0.0s\n",
      "[Parallel(n_jobs=1)]: Done  23 out of  23 | elapsed:    0.2s finished\n",
      "\n",
      "[2021-05-03 12:15:27] Features: 22/1 -- score: 0.6917292790570495[Parallel(n_jobs=1)]: Using backend SequentialBackend with 1 concurrent workers.\n",
      "[Parallel(n_jobs=1)]: Done   1 out of   1 | elapsed:    0.0s remaining:    0.0s\n",
      "[Parallel(n_jobs=1)]: Done  22 out of  22 | elapsed:    0.3s finished\n",
      "\n",
      "[2021-05-03 12:15:27] Features: 21/1 -- score: 0.6946279741846422[Parallel(n_jobs=1)]: Using backend SequentialBackend with 1 concurrent workers.\n",
      "[Parallel(n_jobs=1)]: Done   1 out of   1 | elapsed:    0.0s remaining:    0.0s\n",
      "[Parallel(n_jobs=1)]: Done  21 out of  21 | elapsed:    0.2s finished\n",
      "\n",
      "[2021-05-03 12:15:28] Features: 20/1 -- score: 0.6967408958332586[Parallel(n_jobs=1)]: Using backend SequentialBackend with 1 concurrent workers.\n",
      "[Parallel(n_jobs=1)]: Done   1 out of   1 | elapsed:    0.0s remaining:    0.0s\n",
      "[Parallel(n_jobs=1)]: Done  20 out of  20 | elapsed:    0.2s finished\n",
      "\n",
      "[2021-05-03 12:15:28] Features: 19/1 -- score: 0.6985514950457454[Parallel(n_jobs=1)]: Using backend SequentialBackend with 1 concurrent workers.\n",
      "[Parallel(n_jobs=1)]: Done   1 out of   1 | elapsed:    0.0s remaining:    0.0s\n",
      "[Parallel(n_jobs=1)]: Done  19 out of  19 | elapsed:    0.1s finished\n",
      "\n",
      "[2021-05-03 12:15:28] Features: 18/1 -- score: 0.6996555315992025[Parallel(n_jobs=1)]: Using backend SequentialBackend with 1 concurrent workers.\n",
      "[Parallel(n_jobs=1)]: Done   1 out of   1 | elapsed:    0.0s remaining:    0.0s\n",
      "[Parallel(n_jobs=1)]: Done  18 out of  18 | elapsed:    0.1s finished\n",
      "\n",
      "[2021-05-03 12:15:28] Features: 17/1 -- score: 0.7006937117912617[Parallel(n_jobs=1)]: Using backend SequentialBackend with 1 concurrent workers.\n",
      "[Parallel(n_jobs=1)]: Done   1 out of   1 | elapsed:    0.0s remaining:    0.0s\n",
      "[Parallel(n_jobs=1)]: Done  17 out of  17 | elapsed:    0.3s finished\n",
      "\n",
      "[2021-05-03 12:15:29] Features: 16/1 -- score: 0.7011805084119634[Parallel(n_jobs=1)]: Using backend SequentialBackend with 1 concurrent workers.\n",
      "[Parallel(n_jobs=1)]: Done   1 out of   1 | elapsed:    0.0s remaining:    0.0s\n",
      "[Parallel(n_jobs=1)]: Done  16 out of  16 | elapsed:    0.0s finished\n",
      "\n",
      "[2021-05-03 12:15:29] Features: 15/1 -- score: 0.7014166203347629[Parallel(n_jobs=1)]: Using backend SequentialBackend with 1 concurrent workers.\n",
      "[Parallel(n_jobs=1)]: Done   1 out of   1 | elapsed:    0.0s remaining:    0.0s\n",
      "[Parallel(n_jobs=1)]: Done  15 out of  15 | elapsed:    0.1s finished\n",
      "\n",
      "[2021-05-03 12:15:29] Features: 14/1 -- score: 0.7016475935868021[Parallel(n_jobs=1)]: Using backend SequentialBackend with 1 concurrent workers.\n",
      "[Parallel(n_jobs=1)]: Done   1 out of   1 | elapsed:    0.0s remaining:    0.0s\n",
      "[Parallel(n_jobs=1)]: Done  14 out of  14 | elapsed:    0.0s finished\n",
      "\n",
      "[2021-05-03 12:15:29] Features: 13/1 -- score: 0.7016549302072923[Parallel(n_jobs=1)]: Using backend SequentialBackend with 1 concurrent workers.\n",
      "[Parallel(n_jobs=1)]: Done   1 out of   1 | elapsed:    0.0s remaining:    0.0s\n",
      "[Parallel(n_jobs=1)]: Done  13 out of  13 | elapsed:    0.1s finished\n",
      "\n",
      "[2021-05-03 12:15:30] Features: 12/1 -- score: 0.7015699565240674[Parallel(n_jobs=1)]: Using backend SequentialBackend with 1 concurrent workers.\n",
      "[Parallel(n_jobs=1)]: Done   1 out of   1 | elapsed:    0.0s remaining:    0.0s\n",
      "[Parallel(n_jobs=1)]: Done  12 out of  12 | elapsed:    0.2s finished\n",
      "\n",
      "[2021-05-03 12:15:30] Features: 11/1 -- score: 0.7019318758515357[Parallel(n_jobs=1)]: Using backend SequentialBackend with 1 concurrent workers.\n",
      "[Parallel(n_jobs=1)]: Done   1 out of   1 | elapsed:    0.0s remaining:    0.0s\n",
      "[Parallel(n_jobs=1)]: Done  11 out of  11 | elapsed:    0.0s finished\n",
      "\n",
      "[2021-05-03 12:15:30] Features: 10/1 -- score: 0.7018422590470805[Parallel(n_jobs=1)]: Using backend SequentialBackend with 1 concurrent workers.\n",
      "[Parallel(n_jobs=1)]: Done   1 out of   1 | elapsed:    0.0s remaining:    0.0s\n",
      "[Parallel(n_jobs=1)]: Done  10 out of  10 | elapsed:    0.1s finished\n",
      "\n",
      "[2021-05-03 12:15:30] Features: 9/1 -- score: 0.7014721062897566[Parallel(n_jobs=1)]: Using backend SequentialBackend with 1 concurrent workers.\n",
      "[Parallel(n_jobs=1)]: Done   1 out of   1 | elapsed:    0.0s remaining:    0.0s\n",
      "[Parallel(n_jobs=1)]: Done   9 out of   9 | elapsed:    0.0s finished\n",
      "\n",
      "[2021-05-03 12:15:30] Features: 8/1 -- score: 0.700815386963751[Parallel(n_jobs=1)]: Using backend SequentialBackend with 1 concurrent workers.\n",
      "[Parallel(n_jobs=1)]: Done   1 out of   1 | elapsed:    0.0s remaining:    0.0s\n",
      "[Parallel(n_jobs=1)]: Done   8 out of   8 | elapsed:    0.0s finished\n",
      "\n",
      "[2021-05-03 12:15:30] Features: 7/1 -- score: 0.6998832068556277[Parallel(n_jobs=1)]: Using backend SequentialBackend with 1 concurrent workers.\n",
      "[Parallel(n_jobs=1)]: Done   1 out of   1 | elapsed:    0.0s remaining:    0.0s\n",
      "[Parallel(n_jobs=1)]: Done   7 out of   7 | elapsed:    0.0s finished\n",
      "\n",
      "[2021-05-03 12:15:30] Features: 6/1 -- score: 0.6986514498578739[Parallel(n_jobs=1)]: Using backend SequentialBackend with 1 concurrent workers.\n",
      "[Parallel(n_jobs=1)]: Done   1 out of   1 | elapsed:    0.0s remaining:    0.0s\n",
      "[Parallel(n_jobs=1)]: Done   6 out of   6 | elapsed:    0.0s finished\n",
      "\n",
      "[2021-05-03 12:15:30] Features: 5/1 -- score: 0.7002385221347727[Parallel(n_jobs=1)]: Using backend SequentialBackend with 1 concurrent workers.\n",
      "[Parallel(n_jobs=1)]: Done   1 out of   1 | elapsed:    0.0s remaining:    0.0s\n",
      "[Parallel(n_jobs=1)]: Done   5 out of   5 | elapsed:    0.0s finished\n",
      "\n",
      "[2021-05-03 12:15:31] Features: 4/1 -- score: 0.6903511224423515[Parallel(n_jobs=1)]: Using backend SequentialBackend with 1 concurrent workers.\n",
      "[Parallel(n_jobs=1)]: Done   1 out of   1 | elapsed:    0.0s remaining:    0.0s\n",
      "[Parallel(n_jobs=1)]: Done   4 out of   4 | elapsed:    0.0s finished\n",
      "\n",
      "[2021-05-03 12:15:31] Features: 3/1 -- score: 0.6798395854184042[Parallel(n_jobs=1)]: Using backend SequentialBackend with 1 concurrent workers.\n",
      "[Parallel(n_jobs=1)]: Done   1 out of   1 | elapsed:    0.0s remaining:    0.0s\n",
      "[Parallel(n_jobs=1)]: Done   3 out of   3 | elapsed:    0.0s finished\n",
      "\n",
      "[2021-05-03 12:15:31] Features: 2/1 -- score: 0.6621632987060937[Parallel(n_jobs=1)]: Using backend SequentialBackend with 1 concurrent workers.\n",
      "[Parallel(n_jobs=1)]: Done   1 out of   1 | elapsed:    0.0s remaining:    0.0s\n",
      "[Parallel(n_jobs=1)]: Done   2 out of   2 | elapsed:    0.0s finished\n",
      "\n",
      "[2021-05-03 12:15:31] Features: 1/1 -- score: 0.6584145729296538"
     ]
    }
   ],
   "source": [
    "# initiate linear regression model to use in feature selection\n",
    "linreg = LinearRegression()\n",
    "\n",
    "linreg_backward = sfs(estimator = linreg, k_features = 'best', forward = False, verbose = 2, scoring = 'r2')\n",
    "\n",
    "# fit the backward elimination on training data using fit()\n",
    "sfs_backward = linreg_backward.fit(x1_train, y1_train)"
   ]
  },
  {
   "cell_type": "code",
   "execution_count": 297,
   "metadata": {},
   "outputs": [
    {
     "name": "stdout",
     "output_type": "stream",
     "text": [
      "Features selelected using backward elimination are: \n",
      " ('Experience_Yrs', 'Percentile_ET', 'Board_SSC_ICSE', 'Stream_HSC_Commerce', 'Stream_HSC_Science', 'Course_Degree_Engineering', 'Course_Degree_Management', 'Entrance_Test_G-MAT', 'Entrance_Test_MAT', 'Specialization_MBA_Marketing & HR', 'Placement_Placed')\n",
      "\n",
      "R-squared:  0.7019318758515357\n"
     ]
    }
   ],
   "source": [
    "# print the selected feature names when k_features = 5 \n",
    "print('Features selelected using backward elimination are: \\n', sfs_backward.k_feature_names_)\n",
    "\n",
    "# print the R-squared value\n",
    "print('\\nR-squared: ', sfs_backward.k_score_)"
   ]
  },
  {
   "cell_type": "code",
   "execution_count": 298,
   "metadata": {},
   "outputs": [],
   "source": [
    "X3=final_data[['Experience_Yrs', 'Percentile_ET', 'Board_SSC_ICSE', 'Stream_HSC_Commerce', 'Stream_HSC_Science', 'Course_Degree_Engineering', 'Course_Degree_Management', 'Entrance_Test_G-MAT', 'Entrance_Test_MAT', 'Specialization_MBA_Marketing & HR', 'Placement_Placed']]\n",
    "y3=final_data['Salary']"
   ]
  },
  {
   "cell_type": "code",
   "execution_count": 299,
   "metadata": {},
   "outputs": [
    {
     "data": {
      "text/plain": [
       "(391, 11)"
      ]
     },
     "execution_count": 299,
     "metadata": {},
     "output_type": "execute_result"
    }
   ],
   "source": [
    "X3.shape"
   ]
  },
  {
   "cell_type": "code",
   "execution_count": 300,
   "metadata": {},
   "outputs": [
    {
     "data": {
      "text/plain": [
       "(391,)"
      ]
     },
     "execution_count": 300,
     "metadata": {},
     "output_type": "execute_result"
    }
   ],
   "source": [
    "y3.shape"
   ]
  },
  {
   "cell_type": "code",
   "execution_count": 301,
   "metadata": {},
   "outputs": [],
   "source": [
    "x3_train,x3_test,y3_train,y3_test=train_test_split(X3,y3,test_size=0.3,random_state=123)"
   ]
  },
  {
   "cell_type": "code",
   "execution_count": 302,
   "metadata": {},
   "outputs": [
    {
     "data": {
      "text/plain": [
       "(273, 11)"
      ]
     },
     "execution_count": 302,
     "metadata": {},
     "output_type": "execute_result"
    }
   ],
   "source": [
    "x3_train.shape"
   ]
  },
  {
   "cell_type": "code",
   "execution_count": 303,
   "metadata": {},
   "outputs": [
    {
     "data": {
      "text/plain": [
       "(118, 11)"
      ]
     },
     "execution_count": 303,
     "metadata": {},
     "output_type": "execute_result"
    }
   ],
   "source": [
    "x3_test.shape"
   ]
  },
  {
   "cell_type": "code",
   "execution_count": 304,
   "metadata": {},
   "outputs": [
    {
     "data": {
      "text/plain": [
       "(273,)"
      ]
     },
     "execution_count": 304,
     "metadata": {},
     "output_type": "execute_result"
    }
   ],
   "source": [
    "y3_train.shape"
   ]
  },
  {
   "cell_type": "code",
   "execution_count": 305,
   "metadata": {},
   "outputs": [
    {
     "data": {
      "text/plain": [
       "(118,)"
      ]
     },
     "execution_count": 305,
     "metadata": {},
     "output_type": "execute_result"
    }
   ],
   "source": [
    "y3_test.shape"
   ]
  },
  {
   "cell_type": "code",
   "execution_count": 306,
   "metadata": {},
   "outputs": [],
   "source": [
    "Lr3= LinearRegression()"
   ]
  },
  {
   "cell_type": "code",
   "execution_count": 307,
   "metadata": {},
   "outputs": [
    {
     "data": {
      "text/plain": [
       "LinearRegression()"
      ]
     },
     "execution_count": 307,
     "metadata": {},
     "output_type": "execute_result"
    }
   ],
   "source": [
    "Lr3.fit(x3_train,y3_train)"
   ]
  },
  {
   "cell_type": "code",
   "execution_count": 308,
   "metadata": {},
   "outputs": [],
   "source": [
    "y3_pred=Lr3.predict(x3_test)"
   ]
  },
  {
   "cell_type": "code",
   "execution_count": 309,
   "metadata": {},
   "outputs": [
    {
     "data": {
      "text/plain": [
       "array([306982.5979977 , 297054.8009858 , 263982.20619762, 301879.8968662 ,\n",
       "       -49471.86281719, 218223.74794401, 322905.69589357, 326487.72204971,\n",
       "       269686.36562731,  19803.97900998, 253072.03271578, 244683.15235779,\n",
       "       211520.22413011, 268962.15892434, 244447.32710772, 308028.36957204,\n",
       "       323450.02636272, 250809.49022117, 282276.30438562, 288080.65329075,\n",
       "       252814.20914609, 277886.15334979, 294140.31539409, 315569.01540578,\n",
       "        49793.60896162, 279726.99015153,  16651.56116548, 268202.73500259,\n",
       "       257620.04308418, 296301.42010721, 269200.49454588, 248233.68011671,\n",
       "       320806.10400587, 275478.26860054, 236710.86908083,   2522.66709939,\n",
       "       219173.85425157, -40647.3568465 , 266648.66994032, 226056.32278301,\n",
       "       340064.62411426, 373266.01035039, 221261.44363099, 265297.93563835,\n",
       "       255871.39278122, 272371.08655561,  -8549.99602224, -16653.61333009,\n",
       "       292775.34296732, 331189.87267485, 352546.47101063, 261962.51342583,\n",
       "       251223.53438165, 294120.82744594, 303585.84671282, 263481.36126932,\n",
       "         9405.13563083, 307955.28824018,  16511.98052864, 306080.55715932,\n",
       "       269366.09771593,  20037.07053529, 331189.87267485, 237480.38845651,\n",
       "        63043.28759402, -23488.42862581,  66979.34656865, 247070.92964276,\n",
       "       211125.88825299, 272371.08655561, 286973.45128817, 259530.36624386,\n",
       "       222745.07425571, 227301.61778619, 225537.00031043, 227336.83500497,\n",
       "       246408.72365733, 288045.70091198, 226056.32278301, 276011.04740889,\n",
       "       294920.81976569, 348689.32972232, 290762.09088032, 290868.30314637,\n",
       "       343127.12426206, 266244.74869223, 280061.86172661, 260419.40314962,\n",
       "       299386.79648838, 328065.18782994, 320900.71212864, 245101.31173067,\n",
       "       297953.16427345, 263327.48585259, 341643.49363734, 270827.11694728,\n",
       "       337772.86860986,  19286.09102813, 336102.67430274,   7918.99463464,\n",
       "       279856.60313555, 281230.1087244 , 248303.83762045, 303796.04843748,\n",
       "       288351.69575959, 250809.49022117, 275890.34815066,   6652.30788138,\n",
       "       245860.73565242, -30645.23287977, 297193.7403517 ,  10586.23087903,\n",
       "         -694.75618735, 322433.0437113 , 266008.92344216, -24997.87287929,\n",
       "       281245.83799503, 272371.08655561])"
      ]
     },
     "execution_count": 309,
     "metadata": {},
     "output_type": "execute_result"
    }
   ],
   "source": [
    "y3_pred"
   ]
  },
  {
   "cell_type": "code",
   "execution_count": 310,
   "metadata": {},
   "outputs": [
    {
     "data": {
      "text/plain": [
       "-28540.208273467957"
      ]
     },
     "execution_count": 310,
     "metadata": {},
     "output_type": "execute_result"
    }
   ],
   "source": [
    "Lr3.intercept_"
   ]
  },
  {
   "cell_type": "code",
   "execution_count": 311,
   "metadata": {},
   "outputs": [
    {
     "data": {
      "text/plain": [
       "array([ 18391.00432471,    759.42392175,   8624.70560806,  32927.10297762,\n",
       "        24538.22261963,  48816.66215251, -21561.59633444,  43943.67721699,\n",
       "       -44284.92308284, -24753.16743816, 267984.19185146])"
      ]
     },
     "execution_count": 311,
     "metadata": {},
     "output_type": "execute_result"
    }
   ],
   "source": [
    "Lr3.coef_"
   ]
  },
  {
   "cell_type": "code",
   "execution_count": 312,
   "metadata": {},
   "outputs": [
    {
     "data": {
      "text/plain": [
       "0.5568102567040918"
      ]
     },
     "execution_count": 312,
     "metadata": {},
     "output_type": "execute_result"
    }
   ],
   "source": [
    "r2_score(y3_test,y3_pred)"
   ]
  },
  {
   "cell_type": "code",
   "execution_count": 313,
   "metadata": {},
   "outputs": [
    {
     "data": {
      "text/plain": [
       "8373947243.386991"
      ]
     },
     "execution_count": 313,
     "metadata": {},
     "output_type": "execute_result"
    }
   ],
   "source": [
    "mean_squared_error(y3_test,y3_pred)"
   ]
  },
  {
   "cell_type": "code",
   "execution_count": 314,
   "metadata": {},
   "outputs": [
    {
     "data": {
      "text/plain": [
       "91509.27408403473"
      ]
     },
     "execution_count": 314,
     "metadata": {},
     "output_type": "execute_result"
    }
   ],
   "source": [
    "np.sqrt(mean_squared_error(y3_test,y3_pred))"
   ]
  },
  {
   "cell_type": "code",
   "execution_count": 315,
   "metadata": {},
   "outputs": [
    {
     "data": {
      "text/plain": [
       "56583.123373885304"
      ]
     },
     "execution_count": 315,
     "metadata": {},
     "output_type": "execute_result"
    }
   ],
   "source": [
    "mean_absolute_error(y3_test,y3_pred)"
   ]
  },
  {
   "cell_type": "code",
   "execution_count": null,
   "metadata": {},
   "outputs": [],
   "source": []
  }
 ],
 "metadata": {
  "kernelspec": {
   "display_name": "Python 3",
   "language": "python",
   "name": "python3"
  },
  "language_info": {
   "codemirror_mode": {
    "name": "ipython",
    "version": 3
   },
   "file_extension": ".py",
   "mimetype": "text/x-python",
   "name": "python",
   "nbconvert_exporter": "python",
   "pygments_lexer": "ipython3",
   "version": "3.8.5"
  }
 },
 "nbformat": 4,
 "nbformat_minor": 4
}
